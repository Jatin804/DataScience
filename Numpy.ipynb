{
 "cells": [
  {
   "metadata": {},
   "cell_type": "markdown",
   "source": "# Basic Notes of \" NUMPY \"",
   "id": "43609de3fe34f2e8"
  },
  {
   "cell_type": "code",
   "id": "initial_id",
   "metadata": {
    "collapsed": true,
    "ExecuteTime": {
     "end_time": "2024-08-14T04:15:44.208740Z",
     "start_time": "2024-08-14T04:15:44.204500Z"
    }
   },
   "source": "import numpy as np ",
   "outputs": [],
   "execution_count": 193
  },
  {
   "metadata": {},
   "cell_type": "markdown",
   "source": "# All about numpy ",
   "id": "2e19deafb8d79d91"
  },
  {
   "metadata": {
    "ExecuteTime": {
     "end_time": "2024-08-14T04:15:45.134360Z",
     "start_time": "2024-08-14T04:15:45.127308Z"
    }
   },
   "cell_type": "code",
   "source": [
    "# to create an array \n",
    "arr = np.array([3,6,33,2])\n",
    "\n",
    "arr1 = np.array([[3,2,1,12,9], [1,2,3,4,5]], np.int8)\n"
   ],
   "id": "e232115f85816fcc",
   "outputs": [],
   "execution_count": 194
  },
  {
   "metadata": {
    "ExecuteTime": {
     "end_time": "2024-08-14T04:15:45.176739Z",
     "start_time": "2024-08-14T04:15:45.168413Z"
    }
   },
   "cell_type": "code",
   "source": [
    "# for shape of array \n",
    "np.shape(arr1)\n",
    "arr1.dtype              # for int type "
   ],
   "id": "3a87d831d76a464e",
   "outputs": [
    {
     "data": {
      "text/plain": [
       "dtype('int8')"
      ]
     },
     "execution_count": 195,
     "metadata": {},
     "output_type": "execute_result"
    }
   ],
   "execution_count": 195
  },
  {
   "metadata": {
    "ExecuteTime": {
     "end_time": "2024-08-14T04:15:45.293599Z",
     "start_time": "2024-08-14T04:15:45.283320Z"
    }
   },
   "cell_type": "code",
   "source": [
    "# Changes \n",
    "arr1[0,1] = 45\n",
    "# print(arr1)\n",
    "arr1"
   ],
   "id": "f484fc061eb7664",
   "outputs": [
    {
     "data": {
      "text/plain": [
       "array([[ 3, 45,  1, 12,  9],\n",
       "       [ 1,  2,  3,  4,  5]], dtype=int8)"
      ]
     },
     "execution_count": 196,
     "metadata": {},
     "output_type": "execute_result"
    }
   ],
   "execution_count": 196
  },
  {
   "metadata": {},
   "cell_type": "markdown",
   "source": [
    "### Methods to create numpy array \n",
    "\n",
    "1. Using python objects (displayed above)\n",
    "2. Using numpy functions "
   ],
   "id": "a44679f67a785e29"
  },
  {
   "metadata": {},
   "cell_type": "markdown",
   "source": "## Array creation : ",
   "id": "5ac68a54af439e89"
  },
  {
   "metadata": {},
   "cell_type": "markdown",
   "source": "1. Conversion from other python structures",
   "id": "8a06496a94116347"
  },
  {
   "metadata": {},
   "cell_type": "markdown",
   "source": "",
   "id": "bd42db5ee820013d"
  },
  {
   "metadata": {
    "ExecuteTime": {
     "end_time": "2024-08-14T04:15:45.335308Z",
     "start_time": "2024-08-14T04:15:45.329313Z"
    }
   },
   "cell_type": "code",
   "source": "listarr = np.array([[1,2,3,4,5], [9,8,7,6,5]])",
   "id": "9c50c983b37a52d5",
   "outputs": [],
   "execution_count": 197
  },
  {
   "metadata": {
    "ExecuteTime": {
     "end_time": "2024-08-14T04:15:45.466509Z",
     "start_time": "2024-08-14T04:15:45.460295Z"
    }
   },
   "cell_type": "code",
   "source": "listarr.dtype",
   "id": "2198b76c7b51509e",
   "outputs": [
    {
     "data": {
      "text/plain": [
       "dtype('int32')"
      ]
     },
     "execution_count": 198,
     "metadata": {},
     "output_type": "execute_result"
    }
   ],
   "execution_count": 198
  },
  {
   "metadata": {
    "ExecuteTime": {
     "end_time": "2024-08-14T04:15:45.588860Z",
     "start_time": "2024-08-14T04:15:45.574879Z"
    }
   },
   "cell_type": "code",
   "source": "listarr",
   "id": "937ffdeb6802398b",
   "outputs": [
    {
     "data": {
      "text/plain": [
       "array([[1, 2, 3, 4, 5],\n",
       "       [9, 8, 7, 6, 5]])"
      ]
     },
     "execution_count": 199,
     "metadata": {},
     "output_type": "execute_result"
    }
   ],
   "execution_count": 199
  },
  {
   "metadata": {
    "ExecuteTime": {
     "end_time": "2024-08-14T04:15:45.729372Z",
     "start_time": "2024-08-14T04:15:45.721495Z"
    }
   },
   "cell_type": "code",
   "source": [
    "# listarr.size\n",
    "listarr.shape"
   ],
   "id": "f9f469bc0a48778f",
   "outputs": [
    {
     "data": {
      "text/plain": [
       "(2, 5)"
      ]
     },
     "execution_count": 200,
     "metadata": {},
     "output_type": "execute_result"
    }
   ],
   "execution_count": 200
  },
  {
   "metadata": {},
   "cell_type": "markdown",
   "source": "2. Intrinsic numpy array creation objects ",
   "id": "d8fbd0fa1755fec8"
  },
  {
   "metadata": {
    "ExecuteTime": {
     "end_time": "2024-08-14T04:15:45.815658Z",
     "start_time": "2024-08-14T04:15:45.808333Z"
    }
   },
   "cell_type": "code",
   "source": "np.zeros((2,5))",
   "id": "3f6e26773596d5f2",
   "outputs": [
    {
     "data": {
      "text/plain": [
       "array([[0., 0., 0., 0., 0.],\n",
       "       [0., 0., 0., 0., 0.]])"
      ]
     },
     "execution_count": 201,
     "metadata": {},
     "output_type": "execute_result"
    }
   ],
   "execution_count": 201
  },
  {
   "metadata": {
    "ExecuteTime": {
     "end_time": "2024-08-14T04:15:45.962276Z",
     "start_time": "2024-08-14T04:15:45.955855Z"
    }
   },
   "cell_type": "code",
   "source": "np.ones((5,4))",
   "id": "a9652aca09e14ff8",
   "outputs": [
    {
     "data": {
      "text/plain": [
       "array([[1., 1., 1., 1.],\n",
       "       [1., 1., 1., 1.],\n",
       "       [1., 1., 1., 1.],\n",
       "       [1., 1., 1., 1.],\n",
       "       [1., 1., 1., 1.]])"
      ]
     },
     "execution_count": 202,
     "metadata": {},
     "output_type": "execute_result"
    }
   ],
   "execution_count": 202
  },
  {
   "metadata": {
    "ExecuteTime": {
     "end_time": "2024-08-14T04:15:45.996997Z",
     "start_time": "2024-08-14T04:15:45.993284Z"
    }
   },
   "cell_type": "code",
   "source": "rng = np.arange(15)",
   "id": "adfb9f98b8041cc4",
   "outputs": [],
   "execution_count": 203
  },
  {
   "metadata": {
    "ExecuteTime": {
     "end_time": "2024-08-14T04:15:46.159834Z",
     "start_time": "2024-08-14T04:15:46.151122Z"
    }
   },
   "cell_type": "code",
   "source": "rng",
   "id": "a2eef88bf3ae6df1",
   "outputs": [
    {
     "data": {
      "text/plain": [
       "array([ 0,  1,  2,  3,  4,  5,  6,  7,  8,  9, 10, 11, 12, 13, 14])"
      ]
     },
     "execution_count": 204,
     "metadata": {},
     "output_type": "execute_result"
    }
   ],
   "execution_count": 204
  },
  {
   "metadata": {
    "ExecuteTime": {
     "end_time": "2024-08-14T04:15:46.222115Z",
     "start_time": "2024-08-14T04:15:46.216842Z"
    }
   },
   "cell_type": "code",
   "source": "Ispace = np.linspace(1,4,8)     # 1 to 8 and 4 elements ",
   "id": "73348228adb61476",
   "outputs": [],
   "execution_count": 205
  },
  {
   "metadata": {
    "ExecuteTime": {
     "end_time": "2024-08-14T04:15:46.298519Z",
     "start_time": "2024-08-14T04:15:46.291846Z"
    }
   },
   "cell_type": "code",
   "source": "Ispace ",
   "id": "ab93502cf326b126",
   "outputs": [
    {
     "data": {
      "text/plain": [
       "array([1.        , 1.42857143, 1.85714286, 2.28571429, 2.71428571,\n",
       "       3.14285714, 3.57142857, 4.        ])"
      ]
     },
     "execution_count": 206,
     "metadata": {},
     "output_type": "execute_result"
    }
   ],
   "execution_count": 206
  },
  {
   "metadata": {
    "ExecuteTime": {
     "end_time": "2024-08-14T04:15:46.375863Z",
     "start_time": "2024-08-14T04:15:46.371660Z"
    }
   },
   "cell_type": "code",
   "source": "emp = np.empty((4,5))           # Random elements of 4*5",
   "id": "91f6d8f9f06bcc84",
   "outputs": [],
   "execution_count": 207
  },
  {
   "metadata": {
    "ExecuteTime": {
     "end_time": "2024-08-14T04:15:46.449848Z",
     "start_time": "2024-08-14T04:15:46.446038Z"
    }
   },
   "cell_type": "code",
   "source": "emp_like = np.empty_like(Ispace)        # forms a copy of previous array i.e emp",
   "id": "c9e0133aca3ed70a",
   "outputs": [],
   "execution_count": 208
  },
  {
   "metadata": {
    "ExecuteTime": {
     "end_time": "2024-08-14T04:15:46.522559Z",
     "start_time": "2024-08-14T04:15:46.513235Z"
    }
   },
   "cell_type": "code",
   "source": "emp ",
   "id": "d74c345d5deefba8",
   "outputs": [
    {
     "data": {
      "text/plain": [
       "array([[1., 1., 1., 1., 1.],\n",
       "       [1., 1., 1., 1., 1.],\n",
       "       [1., 1., 1., 1., 1.],\n",
       "       [1., 1., 1., 1., 1.]])"
      ]
     },
     "execution_count": 209,
     "metadata": {},
     "output_type": "execute_result"
    }
   ],
   "execution_count": 209
  },
  {
   "metadata": {
    "ExecuteTime": {
     "end_time": "2024-08-14T04:15:46.642203Z",
     "start_time": "2024-08-14T04:15:46.636165Z"
    }
   },
   "cell_type": "code",
   "source": "emp_like",
   "id": "994f2ab9ae8408ce",
   "outputs": [
    {
     "data": {
      "text/plain": [
       "array([1.        , 1.42857143, 1.85714286, 2.28571429, 2.71428571,\n",
       "       3.14285714, 3.57142857, 4.        ])"
      ]
     },
     "execution_count": 210,
     "metadata": {},
     "output_type": "execute_result"
    }
   ],
   "execution_count": 210
  },
  {
   "metadata": {
    "ExecuteTime": {
     "end_time": "2024-08-14T04:15:46.680652Z",
     "start_time": "2024-08-14T04:15:46.671222Z"
    }
   },
   "cell_type": "code",
   "source": "ide = np.identity(45)           # for identity matrix of 45 * 45",
   "id": "a106edfdea3b2d5a",
   "outputs": [],
   "execution_count": 211
  },
  {
   "metadata": {
    "ExecuteTime": {
     "end_time": "2024-08-14T04:15:46.761973Z",
     "start_time": "2024-08-14T04:15:46.756239Z"
    }
   },
   "cell_type": "code",
   "source": "ide ",
   "id": "3efdd9e30e252b9e",
   "outputs": [
    {
     "data": {
      "text/plain": [
       "array([[1., 0., 0., ..., 0., 0., 0.],\n",
       "       [0., 1., 0., ..., 0., 0., 0.],\n",
       "       [0., 0., 1., ..., 0., 0., 0.],\n",
       "       ...,\n",
       "       [0., 0., 0., ..., 1., 0., 0.],\n",
       "       [0., 0., 0., ..., 0., 1., 0.],\n",
       "       [0., 0., 0., ..., 0., 0., 1.]])"
      ]
     },
     "execution_count": 212,
     "metadata": {},
     "output_type": "execute_result"
    }
   ],
   "execution_count": 212
  },
  {
   "metadata": {
    "ExecuteTime": {
     "end_time": "2024-08-14T04:15:46.843120Z",
     "start_time": "2024-08-14T04:15:46.836608Z"
    }
   },
   "cell_type": "code",
   "source": "ide.shape",
   "id": "6b0238f7e61b5343",
   "outputs": [
    {
     "data": {
      "text/plain": [
       "(45, 45)"
      ]
     },
     "execution_count": 213,
     "metadata": {},
     "output_type": "execute_result"
    }
   ],
   "execution_count": 213
  },
  {
   "metadata": {
    "ExecuteTime": {
     "end_time": "2024-08-14T04:15:46.923799Z",
     "start_time": "2024-08-14T04:15:46.917462Z"
    }
   },
   "cell_type": "code",
   "source": "arr2 = np.arange(99)            # A 1D array upto range upto n ",
   "id": "313c189122e8fa25",
   "outputs": [],
   "execution_count": 214
  },
  {
   "metadata": {
    "ExecuteTime": {
     "end_time": "2024-08-14T04:15:46.983752Z",
     "start_time": "2024-08-14T04:15:46.975810Z"
    }
   },
   "cell_type": "code",
   "source": "arr2.reshape(3,33)          # to reshape in best matrix ( n*m = original value , i.e [ 3*33 = 99 ] )",
   "id": "f8d092db9f4e5255",
   "outputs": [
    {
     "data": {
      "text/plain": [
       "array([[ 0,  1,  2,  3,  4,  5,  6,  7,  8,  9, 10, 11, 12, 13, 14, 15,\n",
       "        16, 17, 18, 19, 20, 21, 22, 23, 24, 25, 26, 27, 28, 29, 30, 31,\n",
       "        32],\n",
       "       [33, 34, 35, 36, 37, 38, 39, 40, 41, 42, 43, 44, 45, 46, 47, 48,\n",
       "        49, 50, 51, 52, 53, 54, 55, 56, 57, 58, 59, 60, 61, 62, 63, 64,\n",
       "        65],\n",
       "       [66, 67, 68, 69, 70, 71, 72, 73, 74, 75, 76, 77, 78, 79, 80, 81,\n",
       "        82, 83, 84, 85, 86, 87, 88, 89, 90, 91, 92, 93, 94, 95, 96, 97,\n",
       "        98]])"
      ]
     },
     "execution_count": 215,
     "metadata": {},
     "output_type": "execute_result"
    }
   ],
   "execution_count": 215
  },
  {
   "metadata": {
    "ExecuteTime": {
     "end_time": "2024-08-14T04:15:47.104661Z",
     "start_time": "2024-08-14T04:15:47.097548Z"
    }
   },
   "cell_type": "code",
   "source": "ar = arr2.ravel()           # converting existing array into a 1D array ",
   "id": "95eaa4833590704d",
   "outputs": [],
   "execution_count": 216
  },
  {
   "metadata": {
    "ExecuteTime": {
     "end_time": "2024-08-14T04:15:47.163360Z",
     "start_time": "2024-08-14T04:15:47.158129Z"
    }
   },
   "cell_type": "code",
   "source": "ar.shape",
   "id": "e0bd52f4e537fd01",
   "outputs": [
    {
     "data": {
      "text/plain": [
       "(99,)"
      ]
     },
     "execution_count": 217,
     "metadata": {},
     "output_type": "execute_result"
    }
   ],
   "execution_count": 217
  },
  {
   "metadata": {},
   "cell_type": "markdown",
   "source": "# Axis in numpy ",
   "id": "907f4a7e4bf18733"
  },
  {
   "metadata": {
    "ExecuteTime": {
     "end_time": "2024-08-14T04:15:47.265473Z",
     "start_time": "2024-08-14T04:15:47.261933Z"
    }
   },
   "cell_type": "code",
   "source": [
    "# Asis starts from 1 , \n",
    "# 1D array -> Axis 0\n",
    "# 2D array -> Axis 0, Axis 1\n",
    "# 3D array -> Axis 0, Axis 1, Axis 3\n",
    "# and so on .....\n",
    "\n",
    "# \"n\" dimensions have \"n\" axis , like x , y and z graph \n"
   ],
   "id": "1538d4919e2fb1d4",
   "outputs": [],
   "execution_count": 218
  },
  {
   "metadata": {},
   "cell_type": "markdown",
   "source": "",
   "id": "85536841a8e4ada2"
  },
  {
   "metadata": {
    "ExecuteTime": {
     "end_time": "2024-08-14T04:15:47.327087Z",
     "start_time": "2024-08-14T04:15:47.321326Z"
    }
   },
   "cell_type": "code",
   "source": [
    "# Axis\n",
    "\n",
    "x = [[1,2,3], [4,5,6], [7,1,0]]"
   ],
   "id": "57fe12356d348c22",
   "outputs": [],
   "execution_count": 219
  },
  {
   "metadata": {
    "ExecuteTime": {
     "end_time": "2024-08-14T04:15:47.413491Z",
     "start_time": "2024-08-14T04:15:47.408796Z"
    }
   },
   "cell_type": "code",
   "source": "ar = np.array(x)",
   "id": "96a234dfafdd6d3e",
   "outputs": [],
   "execution_count": 220
  },
  {
   "metadata": {
    "ExecuteTime": {
     "end_time": "2024-08-14T04:15:47.483709Z",
     "start_time": "2024-08-14T04:15:47.477419Z"
    }
   },
   "cell_type": "code",
   "source": "ar",
   "id": "81f64f3e588dcefa",
   "outputs": [
    {
     "data": {
      "text/plain": [
       "array([[1, 2, 3],\n",
       "       [4, 5, 6],\n",
       "       [7, 1, 0]])"
      ]
     },
     "execution_count": 221,
     "metadata": {},
     "output_type": "execute_result"
    }
   ],
   "execution_count": 221
  },
  {
   "metadata": {
    "ExecuteTime": {
     "end_time": "2024-08-14T04:15:47.537065Z",
     "start_time": "2024-08-14T04:15:47.528841Z"
    }
   },
   "cell_type": "code",
   "source": "ar.sum(axis=0)          # sum of x axis ",
   "id": "e561ad930c9b73b3",
   "outputs": [
    {
     "data": {
      "text/plain": [
       "array([12,  8,  9])"
      ]
     },
     "execution_count": 222,
     "metadata": {},
     "output_type": "execute_result"
    }
   ],
   "execution_count": 222
  },
  {
   "metadata": {
    "ExecuteTime": {
     "end_time": "2024-08-14T04:15:47.600097Z",
     "start_time": "2024-08-14T04:15:47.592839Z"
    }
   },
   "cell_type": "code",
   "source": "ar.sum(axis=1)          # sum of y axis ",
   "id": "5ab0cdb9107ea125",
   "outputs": [
    {
     "data": {
      "text/plain": [
       "array([ 6, 15,  8])"
      ]
     },
     "execution_count": 223,
     "metadata": {},
     "output_type": "execute_result"
    }
   ],
   "execution_count": 223
  },
  {
   "metadata": {
    "ExecuteTime": {
     "end_time": "2024-08-14T04:15:47.728584Z",
     "start_time": "2024-08-14T04:15:47.722729Z"
    }
   },
   "cell_type": "code",
   "source": "ar.T                    # Transpose of ar array row into column and vise-versa ",
   "id": "3d34f69c39345a94",
   "outputs": [
    {
     "data": {
      "text/plain": [
       "array([[1, 4, 7],\n",
       "       [2, 5, 1],\n",
       "       [3, 6, 0]])"
      ]
     },
     "execution_count": 224,
     "metadata": {},
     "output_type": "execute_result"
    }
   ],
   "execution_count": 224
  },
  {
   "metadata": {
    "ExecuteTime": {
     "end_time": "2024-08-14T04:15:47.769295Z",
     "start_time": "2024-08-14T04:15:47.759410Z"
    }
   },
   "cell_type": "code",
   "source": "ar.flat             # it will provide iterator for iterating values of array  ",
   "id": "aa277a1a7cacd0ac",
   "outputs": [
    {
     "data": {
      "text/plain": [
       "<numpy.flatiter at 0x292c2a862e0>"
      ]
     },
     "execution_count": 225,
     "metadata": {},
     "output_type": "execute_result"
    }
   ],
   "execution_count": 225
  },
  {
   "metadata": {
    "ExecuteTime": {
     "end_time": "2024-08-14T04:15:47.900083Z",
     "start_time": "2024-08-14T04:15:47.882054Z"
    }
   },
   "cell_type": "code",
   "source": [
    "for item in ar.flat:\n",
    "    print(item)    "
   ],
   "id": "e8671dc821d97dbf",
   "outputs": [
    {
     "name": "stdout",
     "output_type": "stream",
     "text": [
      "1\n",
      "2\n",
      "3\n",
      "4\n",
      "5\n",
      "6\n",
      "7\n",
      "1\n",
      "0\n"
     ]
    }
   ],
   "execution_count": 226
  },
  {
   "metadata": {
    "ExecuteTime": {
     "end_time": "2024-08-14T04:15:47.923912Z",
     "start_time": "2024-08-14T04:15:47.915095Z"
    }
   },
   "cell_type": "code",
   "source": "ar.ndim             # for dimensions ",
   "id": "e5e95ac1becdae3c",
   "outputs": [
    {
     "data": {
      "text/plain": [
       "2"
      ]
     },
     "execution_count": 227,
     "metadata": {},
     "output_type": "execute_result"
    }
   ],
   "execution_count": 227
  },
  {
   "metadata": {
    "ExecuteTime": {
     "end_time": "2024-08-14T04:15:48.012384Z",
     "start_time": "2024-08-14T04:15:48.006474Z"
    }
   },
   "cell_type": "code",
   "source": "ar.size             # for size for array",
   "id": "b209cdc31a3c78fe",
   "outputs": [
    {
     "data": {
      "text/plain": [
       "9"
      ]
     },
     "execution_count": 228,
     "metadata": {},
     "output_type": "execute_result"
    }
   ],
   "execution_count": 228
  },
  {
   "metadata": {
    "ExecuteTime": {
     "end_time": "2024-08-14T04:15:48.129960Z",
     "start_time": "2024-08-14T04:15:48.120379Z"
    }
   },
   "cell_type": "code",
   "source": "ar.nbytes           # tells how much bytes are taking by array ",
   "id": "f37fad11181feb45",
   "outputs": [
    {
     "data": {
      "text/plain": [
       "36"
      ]
     },
     "execution_count": 229,
     "metadata": {},
     "output_type": "execute_result"
    }
   ],
   "execution_count": 229
  },
  {
   "metadata": {
    "ExecuteTime": {
     "end_time": "2024-08-14T04:15:48.247111Z",
     "start_time": "2024-08-14T04:15:48.242459Z"
    }
   },
   "cell_type": "code",
   "source": "one = np.array([6,8,9,0,3,12])",
   "id": "4cff9b6876a9af12",
   "outputs": [],
   "execution_count": 230
  },
  {
   "metadata": {
    "ExecuteTime": {
     "end_time": "2024-08-14T04:15:48.312633Z",
     "start_time": "2024-08-14T04:15:48.306491Z"
    }
   },
   "cell_type": "code",
   "source": "one.argmax()        # index of max element ",
   "id": "68c9b29b24dfbacb",
   "outputs": [
    {
     "data": {
      "text/plain": [
       "5"
      ]
     },
     "execution_count": 231,
     "metadata": {},
     "output_type": "execute_result"
    }
   ],
   "execution_count": 231
  },
  {
   "metadata": {
    "ExecuteTime": {
     "end_time": "2024-08-14T04:15:48.391321Z",
     "start_time": "2024-08-14T04:15:48.385133Z"
    }
   },
   "cell_type": "code",
   "source": "one.argmin()        # index of min element",
   "id": "e763a55b81aacbe1",
   "outputs": [
    {
     "data": {
      "text/plain": [
       "3"
      ]
     },
     "execution_count": 232,
     "metadata": {},
     "output_type": "execute_result"
    }
   ],
   "execution_count": 232
  },
  {
   "metadata": {
    "ExecuteTime": {
     "end_time": "2024-08-14T04:15:48.461277Z",
     "start_time": "2024-08-14T04:15:48.455526Z"
    }
   },
   "cell_type": "code",
   "source": "one.argsort()       # sorted element's index ",
   "id": "d79f1808629c5cb7",
   "outputs": [
    {
     "data": {
      "text/plain": [
       "array([3, 4, 0, 1, 2, 5], dtype=int64)"
      ]
     },
     "execution_count": 233,
     "metadata": {},
     "output_type": "execute_result"
    }
   ],
   "execution_count": 233
  },
  {
   "metadata": {
    "ExecuteTime": {
     "end_time": "2024-08-14T04:15:48.545535Z",
     "start_time": "2024-08-14T04:15:48.539892Z"
    }
   },
   "cell_type": "code",
   "source": "ar.argmax()        # max or min of every element's axis ",
   "id": "2f793d6c22ef7976",
   "outputs": [
    {
     "data": {
      "text/plain": [
       "6"
      ]
     },
     "execution_count": 234,
     "metadata": {},
     "output_type": "execute_result"
    }
   ],
   "execution_count": 234
  },
  {
   "metadata": {
    "ExecuteTime": {
     "end_time": "2024-08-14T04:15:48.611826Z",
     "start_time": "2024-08-14T04:15:48.605277Z"
    }
   },
   "cell_type": "code",
   "source": "ar.argsort()        # sorted element's index of list inside array ",
   "id": "9a07f509414e03d4",
   "outputs": [
    {
     "data": {
      "text/plain": [
       "array([[0, 1, 2],\n",
       "       [0, 1, 2],\n",
       "       [2, 1, 0]], dtype=int64)"
      ]
     },
     "execution_count": 235,
     "metadata": {},
     "output_type": "execute_result"
    }
   ],
   "execution_count": 235
  },
  {
   "metadata": {
    "ExecuteTime": {
     "end_time": "2024-08-14T04:15:48.695578Z",
     "start_time": "2024-08-14T04:15:48.689989Z"
    }
   },
   "cell_type": "code",
   "source": "ar",
   "id": "8c4f606147fa8339",
   "outputs": [
    {
     "data": {
      "text/plain": [
       "array([[1, 2, 3],\n",
       "       [4, 5, 6],\n",
       "       [7, 1, 0]])"
      ]
     },
     "execution_count": 236,
     "metadata": {},
     "output_type": "execute_result"
    }
   ],
   "execution_count": 236
  },
  {
   "metadata": {
    "ExecuteTime": {
     "end_time": "2024-08-14T04:15:48.792724Z",
     "start_time": "2024-08-14T04:15:48.788408Z"
    }
   },
   "cell_type": "code",
   "source": [
    "ar2 = np.array([\n",
    "    [4,5,7],\n",
    "    [6,1,0],\n",
    "    [6,1,0]\n",
    "])"
   ],
   "id": "e07b95c7a85b07a1",
   "outputs": [],
   "execution_count": 237
  },
  {
   "metadata": {
    "ExecuteTime": {
     "end_time": "2024-08-14T04:15:48.890160Z",
     "start_time": "2024-08-14T04:15:48.884252Z"
    }
   },
   "cell_type": "code",
   "source": [
    "# array addition, or simply we can do matrix addition, sub, multi, div ....\n",
    "ar + ar2 \n",
    "# ar * ar2"
   ],
   "id": "41d2c37e1f91f800",
   "outputs": [
    {
     "data": {
      "text/plain": [
       "array([[ 5,  7, 10],\n",
       "       [10,  6,  6],\n",
       "       [13,  2,  0]])"
      ]
     },
     "execution_count": 238,
     "metadata": {},
     "output_type": "execute_result"
    }
   ],
   "execution_count": 238
  },
  {
   "metadata": {
    "ExecuteTime": {
     "end_time": "2024-08-14T04:15:48.974442Z",
     "start_time": "2024-08-14T04:15:48.964821Z"
    }
   },
   "cell_type": "code",
   "source": "ar.max()            # for max, min elements inside array  ",
   "id": "d5b44b4c357aade6",
   "outputs": [
    {
     "data": {
      "text/plain": [
       "7"
      ]
     },
     "execution_count": 239,
     "metadata": {},
     "output_type": "execute_result"
    }
   ],
   "execution_count": 239
  },
  {
   "metadata": {},
   "cell_type": "markdown",
   "source": "## Some kind of conditions  ",
   "id": "dc937a692f1023e5"
  },
  {
   "metadata": {
    "ExecuteTime": {
     "end_time": "2024-08-14T04:15:49.136700Z",
     "start_time": "2024-08-14T04:15:49.127248Z"
    }
   },
   "cell_type": "code",
   "source": "np.where(ar>5)          # returns the max where greater then 5, output is like array index in 2D",
   "id": "bed64014d5a09f36",
   "outputs": [
    {
     "data": {
      "text/plain": [
       "(array([1, 2], dtype=int64), array([2, 0], dtype=int64))"
      ]
     },
     "execution_count": 240,
     "metadata": {},
     "output_type": "execute_result"
    }
   ],
   "execution_count": 240
  },
  {
   "metadata": {
    "ExecuteTime": {
     "end_time": "2024-08-14T04:15:49.173852Z",
     "start_time": "2024-08-14T04:15:49.164993Z"
    }
   },
   "cell_type": "code",
   "source": "np.count_nonzero(ar)        # counts the no zero elements ",
   "id": "212bd397ad814a74",
   "outputs": [
    {
     "data": {
      "text/plain": [
       "8"
      ]
     },
     "execution_count": 241,
     "metadata": {},
     "output_type": "execute_result"
    }
   ],
   "execution_count": 241
  },
  {
   "metadata": {
    "ExecuteTime": {
     "end_time": "2024-08-14T04:15:49.321791Z",
     "start_time": "2024-08-14T04:15:49.314442Z"
    }
   },
   "cell_type": "code",
   "source": "np.nonzero(ar)          # for every axis x or y or z, it will give index no. ( it will ignore the index if it has zero in it )",
   "id": "488f4f97f1eccf0",
   "outputs": [
    {
     "data": {
      "text/plain": [
       "(array([0, 0, 0, 1, 1, 1, 2, 2], dtype=int64),\n",
       " array([0, 1, 2, 0, 1, 2, 0, 1], dtype=int64))"
      ]
     },
     "execution_count": 242,
     "metadata": {},
     "output_type": "execute_result"
    }
   ],
   "execution_count": 242
  },
  {
   "metadata": {
    "ExecuteTime": {
     "end_time": "2024-08-14T04:15:49.447358Z",
     "start_time": "2024-08-14T04:15:49.440470Z"
    }
   },
   "cell_type": "code",
   "source": "ar.tolist()             # returns the python list from numpy list",
   "id": "e98566713529f423",
   "outputs": [
    {
     "data": {
      "text/plain": [
       "[[1, 2, 3], [4, 5, 6], [7, 1, 0]]"
      ]
     },
     "execution_count": 243,
     "metadata": {},
     "output_type": "execute_result"
    }
   ],
   "execution_count": 243
  },
  {
   "metadata": {},
   "cell_type": "markdown",
   "source": "### For knowing size of array, size of array comparison between python array and numpy array   ",
   "id": "255ec3b8e4c5d818"
  },
  {
   "metadata": {
    "ExecuteTime": {
     "end_time": "2024-08-14T04:15:49.595297Z",
     "start_time": "2024-08-14T04:15:49.591176Z"
    }
   },
   "cell_type": "code",
   "source": "import sys",
   "id": "82202ff5c1892f6c",
   "outputs": [],
   "execution_count": 244
  },
  {
   "metadata": {
    "ExecuteTime": {
     "end_time": "2024-08-14T04:15:49.698133Z",
     "start_time": "2024-08-14T04:15:49.693206Z"
    }
   },
   "cell_type": "code",
   "source": "py_ar = [0,4,55,2]",
   "id": "3e78ea72fefd2666",
   "outputs": [],
   "execution_count": 245
  },
  {
   "metadata": {
    "ExecuteTime": {
     "end_time": "2024-08-14T04:15:49.832192Z",
     "start_time": "2024-08-14T04:15:49.827827Z"
    }
   },
   "cell_type": "code",
   "source": "np_ar = np.array(py_ar)",
   "id": "4b716b24996fddff",
   "outputs": [],
   "execution_count": 246
  },
  {
   "metadata": {
    "ExecuteTime": {
     "end_time": "2024-08-14T04:15:49.986951Z",
     "start_time": "2024-08-14T04:15:49.978599Z"
    }
   },
   "cell_type": "code",
   "source": "sys.getsizeof(1)        # size of element present in array ",
   "id": "923a796fd250d088",
   "outputs": [
    {
     "data": {
      "text/plain": [
       "28"
      ]
     },
     "execution_count": 247,
     "metadata": {},
     "output_type": "execute_result"
    }
   ],
   "execution_count": 247
  },
  {
   "metadata": {
    "ExecuteTime": {
     "end_time": "2024-08-14T04:15:50.072263Z",
     "start_time": "2024-08-14T04:15:50.064747Z"
    }
   },
   "cell_type": "code",
   "source": "sys.getsizeof(1) * len(py_ar)       # size of python array ",
   "id": "7b9efef41fc21300",
   "outputs": [
    {
     "data": {
      "text/plain": [
       "112"
      ]
     },
     "execution_count": 248,
     "metadata": {},
     "output_type": "execute_result"
    }
   ],
   "execution_count": 248
  },
  {
   "metadata": {
    "ExecuteTime": {
     "end_time": "2024-08-14T04:15:50.125375Z",
     "start_time": "2024-08-14T04:15:50.119956Z"
    }
   },
   "cell_type": "code",
   "source": "np_ar.itemsize * np_ar.size         # size of numpy array is len the python array ",
   "id": "b63331d68410954f",
   "outputs": [
    {
     "data": {
      "text/plain": [
       "16"
      ]
     },
     "execution_count": 249,
     "metadata": {},
     "output_type": "execute_result"
    }
   ],
   "execution_count": 249
  },
  {
   "metadata": {
    "ExecuteTime": {
     "end_time": "2024-08-14T04:15:50.230509Z",
     "start_time": "2024-08-14T04:15:50.227830Z"
    }
   },
   "cell_type": "code",
   "source": "",
   "id": "3756746153d6f067",
   "outputs": [],
   "execution_count": 249
  }
 ],
 "metadata": {
  "kernelspec": {
   "display_name": "Python 3",
   "language": "python",
   "name": "python3"
  },
  "language_info": {
   "codemirror_mode": {
    "name": "ipython",
    "version": 2
   },
   "file_extension": ".py",
   "mimetype": "text/x-python",
   "name": "python",
   "nbconvert_exporter": "python",
   "pygments_lexer": "ipython2",
   "version": "2.7.6"
  }
 },
 "nbformat": 4,
 "nbformat_minor": 5
}
