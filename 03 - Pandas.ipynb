{
 "cells": [
  {
   "cell_type": "code",
   "id": "initial_id",
   "metadata": {
    "collapsed": true,
    "ExecuteTime": {
     "end_time": "2024-08-21T12:45:51.117334Z",
     "start_time": "2024-08-21T12:45:51.111792Z"
    }
   },
   "source": [
    "import numpy as np\n",
    "import pandas as pd "
   ],
   "outputs": [],
   "execution_count": 3
  },
  {
   "metadata": {
    "ExecuteTime": {
     "end_time": "2024-08-21T12:46:32.628790Z",
     "start_time": "2024-08-21T12:46:32.617850Z"
    }
   },
   "cell_type": "code",
   "source": [
    "dict1 = {\n",
    "    \"name\":['harry','rohan','skillf','shubh'],\n",
    "    \"marks\":[92,34,24,17],\n",
    "    \"city\":['rampur','kolkata','bareilly','antartica']\n",
    "}"
   ],
   "id": "e789293afedad2c6",
   "outputs": [],
   "execution_count": 4
  },
  {
   "metadata": {
    "ExecuteTime": {
     "end_time": "2024-08-21T12:46:50.311911Z",
     "start_time": "2024-08-21T12:46:50.246643Z"
    }
   },
   "cell_type": "code",
   "source": "df = pd.DataFrame(dict1)",
   "id": "35e48b474c4587ce",
   "outputs": [],
   "execution_count": 5
  },
  {
   "metadata": {
    "ExecuteTime": {
     "end_time": "2024-08-21T12:47:35.873230Z",
     "start_time": "2024-08-21T12:47:35.828889Z"
    }
   },
   "cell_type": "code",
   "source": "df      # it will print the dataframe",
   "id": "816e671f483b59bd",
   "outputs": [
    {
     "data": {
      "text/plain": [
       "     name  marks       city\n",
       "0   harry     92     rampur\n",
       "1   rohan     34    kolkata\n",
       "2  skillf     24   bareilly\n",
       "3   shubh     17  antartica"
      ],
      "text/html": [
       "<div>\n",
       "<style scoped>\n",
       "    .dataframe tbody tr th:only-of-type {\n",
       "        vertical-align: middle;\n",
       "    }\n",
       "\n",
       "    .dataframe tbody tr th {\n",
       "        vertical-align: top;\n",
       "    }\n",
       "\n",
       "    .dataframe thead th {\n",
       "        text-align: right;\n",
       "    }\n",
       "</style>\n",
       "<table border=\"1\" class=\"dataframe\">\n",
       "  <thead>\n",
       "    <tr style=\"text-align: right;\">\n",
       "      <th></th>\n",
       "      <th>name</th>\n",
       "      <th>marks</th>\n",
       "      <th>city</th>\n",
       "    </tr>\n",
       "  </thead>\n",
       "  <tbody>\n",
       "    <tr>\n",
       "      <th>0</th>\n",
       "      <td>harry</td>\n",
       "      <td>92</td>\n",
       "      <td>rampur</td>\n",
       "    </tr>\n",
       "    <tr>\n",
       "      <th>1</th>\n",
       "      <td>rohan</td>\n",
       "      <td>34</td>\n",
       "      <td>kolkata</td>\n",
       "    </tr>\n",
       "    <tr>\n",
       "      <th>2</th>\n",
       "      <td>skillf</td>\n",
       "      <td>24</td>\n",
       "      <td>bareilly</td>\n",
       "    </tr>\n",
       "    <tr>\n",
       "      <th>3</th>\n",
       "      <td>shubh</td>\n",
       "      <td>17</td>\n",
       "      <td>antartica</td>\n",
       "    </tr>\n",
       "  </tbody>\n",
       "</table>\n",
       "</div>"
      ]
     },
     "execution_count": 7,
     "metadata": {},
     "output_type": "execute_result"
    }
   ],
   "execution_count": 7
  },
  {
   "metadata": {
    "ExecuteTime": {
     "end_time": "2024-08-21T12:48:12.113738Z",
     "start_time": "2024-08-21T12:48:12.052601Z"
    }
   },
   "cell_type": "code",
   "source": [
    "df.to_csv('file.csv')       # it will create a csv file\n",
    "df.to_csv('file.csv' , index=False)     # it will create a csv file without index"
   ],
   "id": "5d796f0996459ef7",
   "outputs": [],
   "execution_count": 8
  },
  {
   "metadata": {
    "ExecuteTime": {
     "end_time": "2024-08-21T12:51:47.236896Z",
     "start_time": "2024-08-21T12:51:47.190106Z"
    }
   },
   "cell_type": "code",
   "source": [
    "df.head()    # it will print the first 5 rows\n",
    "df.tail()    # it will print the last 5 rows\n",
    "df.describe()       # it will print the statistical data"
   ],
   "id": "30e57c899f760073",
   "outputs": [
    {
     "data": {
      "text/plain": [
       "          marks\n",
       "count   4.00000\n",
       "mean   41.75000\n",
       "std    34.21866\n",
       "min    17.00000\n",
       "25%    22.25000\n",
       "50%    29.00000\n",
       "75%    48.50000\n",
       "max    92.00000"
      ],
      "text/html": [
       "<div>\n",
       "<style scoped>\n",
       "    .dataframe tbody tr th:only-of-type {\n",
       "        vertical-align: middle;\n",
       "    }\n",
       "\n",
       "    .dataframe tbody tr th {\n",
       "        vertical-align: top;\n",
       "    }\n",
       "\n",
       "    .dataframe thead th {\n",
       "        text-align: right;\n",
       "    }\n",
       "</style>\n",
       "<table border=\"1\" class=\"dataframe\">\n",
       "  <thead>\n",
       "    <tr style=\"text-align: right;\">\n",
       "      <th></th>\n",
       "      <th>marks</th>\n",
       "    </tr>\n",
       "  </thead>\n",
       "  <tbody>\n",
       "    <tr>\n",
       "      <th>count</th>\n",
       "      <td>4.00000</td>\n",
       "    </tr>\n",
       "    <tr>\n",
       "      <th>mean</th>\n",
       "      <td>41.75000</td>\n",
       "    </tr>\n",
       "    <tr>\n",
       "      <th>std</th>\n",
       "      <td>34.21866</td>\n",
       "    </tr>\n",
       "    <tr>\n",
       "      <th>min</th>\n",
       "      <td>17.00000</td>\n",
       "    </tr>\n",
       "    <tr>\n",
       "      <th>25%</th>\n",
       "      <td>22.25000</td>\n",
       "    </tr>\n",
       "    <tr>\n",
       "      <th>50%</th>\n",
       "      <td>29.00000</td>\n",
       "    </tr>\n",
       "    <tr>\n",
       "      <th>75%</th>\n",
       "      <td>48.50000</td>\n",
       "    </tr>\n",
       "    <tr>\n",
       "      <th>max</th>\n",
       "      <td>92.00000</td>\n",
       "    </tr>\n",
       "  </tbody>\n",
       "</table>\n",
       "</div>"
      ]
     },
     "execution_count": 9,
     "metadata": {},
     "output_type": "execute_result"
    }
   ],
   "execution_count": 9
  },
  {
   "metadata": {
    "ExecuteTime": {
     "end_time": "2024-08-21T12:57:21.499238Z",
     "start_time": "2024-08-21T12:57:21.472028Z"
    }
   },
   "cell_type": "code",
   "source": "csv_file = pd.read_csv('file.csv')      # it will read the csv file",
   "id": "988d54a88c09b354",
   "outputs": [
    {
     "data": {
      "text/plain": [
       "   Unnamed: 0    name  marks       city\n",
       "0           0   harry     92     rampur\n",
       "1           1   rohan     34    kolkata\n",
       "2           2  skillf     24   bareilly\n",
       "3           3   shubh     17  antartica"
      ],
      "text/html": [
       "<div>\n",
       "<style scoped>\n",
       "    .dataframe tbody tr th:only-of-type {\n",
       "        vertical-align: middle;\n",
       "    }\n",
       "\n",
       "    .dataframe tbody tr th {\n",
       "        vertical-align: top;\n",
       "    }\n",
       "\n",
       "    .dataframe thead th {\n",
       "        text-align: right;\n",
       "    }\n",
       "</style>\n",
       "<table border=\"1\" class=\"dataframe\">\n",
       "  <thead>\n",
       "    <tr style=\"text-align: right;\">\n",
       "      <th></th>\n",
       "      <th>Unnamed: 0</th>\n",
       "      <th>name</th>\n",
       "      <th>marks</th>\n",
       "      <th>city</th>\n",
       "    </tr>\n",
       "  </thead>\n",
       "  <tbody>\n",
       "    <tr>\n",
       "      <th>0</th>\n",
       "      <td>0</td>\n",
       "      <td>harry</td>\n",
       "      <td>92</td>\n",
       "      <td>rampur</td>\n",
       "    </tr>\n",
       "    <tr>\n",
       "      <th>1</th>\n",
       "      <td>1</td>\n",
       "      <td>rohan</td>\n",
       "      <td>34</td>\n",
       "      <td>kolkata</td>\n",
       "    </tr>\n",
       "    <tr>\n",
       "      <th>2</th>\n",
       "      <td>2</td>\n",
       "      <td>skillf</td>\n",
       "      <td>24</td>\n",
       "      <td>bareilly</td>\n",
       "    </tr>\n",
       "    <tr>\n",
       "      <th>3</th>\n",
       "      <td>3</td>\n",
       "      <td>shubh</td>\n",
       "      <td>17</td>\n",
       "      <td>antartica</td>\n",
       "    </tr>\n",
       "  </tbody>\n",
       "</table>\n",
       "</div>"
      ]
     },
     "execution_count": 16,
     "metadata": {},
     "output_type": "execute_result"
    }
   ],
   "execution_count": 16
  },
  {
   "metadata": {},
   "cell_type": "markdown",
   "source": [
    "### Changes can be made using simple python code using list slicing eg [0]\n",
    "### not a good practice"
   ],
   "id": "b1f09d12a4cf8fd9"
  },
  {
   "metadata": {
    "ExecuteTime": {
     "end_time": "2024-08-21T12:59:14.340705Z",
     "start_time": "2024-08-21T12:59:14.323058Z"
    }
   },
   "cell_type": "code",
   "source": [
    "csv_file.index = ['a','b','c','d']\n",
    "csv_file    # to change the index or values"
   ],
   "id": "e0fde6acb41119a",
   "outputs": [
    {
     "data": {
      "text/plain": [
       "   Unnamed: 0    name  marks       city\n",
       "a           0   harry     30     rampur\n",
       "b           1   rohan     34    kolkata\n",
       "c           2  skillf     24   bareilly\n",
       "d           3   shubh     17  antartica"
      ],
      "text/html": [
       "<div>\n",
       "<style scoped>\n",
       "    .dataframe tbody tr th:only-of-type {\n",
       "        vertical-align: middle;\n",
       "    }\n",
       "\n",
       "    .dataframe tbody tr th {\n",
       "        vertical-align: top;\n",
       "    }\n",
       "\n",
       "    .dataframe thead th {\n",
       "        text-align: right;\n",
       "    }\n",
       "</style>\n",
       "<table border=\"1\" class=\"dataframe\">\n",
       "  <thead>\n",
       "    <tr style=\"text-align: right;\">\n",
       "      <th></th>\n",
       "      <th>Unnamed: 0</th>\n",
       "      <th>name</th>\n",
       "      <th>marks</th>\n",
       "      <th>city</th>\n",
       "    </tr>\n",
       "  </thead>\n",
       "  <tbody>\n",
       "    <tr>\n",
       "      <th>a</th>\n",
       "      <td>0</td>\n",
       "      <td>harry</td>\n",
       "      <td>30</td>\n",
       "      <td>rampur</td>\n",
       "    </tr>\n",
       "    <tr>\n",
       "      <th>b</th>\n",
       "      <td>1</td>\n",
       "      <td>rohan</td>\n",
       "      <td>34</td>\n",
       "      <td>kolkata</td>\n",
       "    </tr>\n",
       "    <tr>\n",
       "      <th>c</th>\n",
       "      <td>2</td>\n",
       "      <td>skillf</td>\n",
       "      <td>24</td>\n",
       "      <td>bareilly</td>\n",
       "    </tr>\n",
       "    <tr>\n",
       "      <th>d</th>\n",
       "      <td>3</td>\n",
       "      <td>shubh</td>\n",
       "      <td>17</td>\n",
       "      <td>antartica</td>\n",
       "    </tr>\n",
       "  </tbody>\n",
       "</table>\n",
       "</div>"
      ]
     },
     "execution_count": 19,
     "metadata": {},
     "output_type": "execute_result"
    }
   ],
   "execution_count": 19
  },
  {
   "metadata": {
    "ExecuteTime": {
     "end_time": "2024-08-21T13:18:24.492208Z",
     "start_time": "2024-08-21T13:18:24.484432Z"
    }
   },
   "cell_type": "code",
   "source": "ser = pd.Series(np.random.rand(34))     # it will create a series of 34 random numbers",
   "id": "fead67c3c6dd8e0f",
   "outputs": [],
   "execution_count": 24
  },
  {
   "metadata": {
    "ExecuteTime": {
     "end_time": "2024-08-21T13:18:50.447528Z",
     "start_time": "2024-08-21T13:18:50.422874Z"
    }
   },
   "cell_type": "code",
   "source": "ser ",
   "id": "4446c9b39b7e5278",
   "outputs": [
    {
     "data": {
      "text/plain": [
       "0     0.590204\n",
       "1     0.884071\n",
       "2     0.760960\n",
       "3     0.742187\n",
       "4     0.000026\n",
       "5     0.654078\n",
       "6     0.078861\n",
       "7     0.405888\n",
       "8     0.789140\n",
       "9     0.473972\n",
       "10    0.246954\n",
       "11    0.413513\n",
       "12    0.223058\n",
       "13    0.817046\n",
       "14    0.141375\n",
       "15    0.168598\n",
       "16    0.309941\n",
       "17    0.775723\n",
       "18    0.171712\n",
       "19    0.557977\n",
       "20    0.952631\n",
       "21    0.128769\n",
       "22    0.366534\n",
       "23    0.837735\n",
       "24    0.528163\n",
       "25    0.459277\n",
       "26    0.775792\n",
       "27    0.652714\n",
       "28    0.627306\n",
       "29    0.189258\n",
       "30    0.081787\n",
       "31    0.702661\n",
       "32    0.727359\n",
       "33    0.824210\n",
       "dtype: float64"
      ]
     },
     "execution_count": 26,
     "metadata": {},
     "output_type": "execute_result"
    }
   ],
   "execution_count": 26
  },
  {
   "metadata": {
    "ExecuteTime": {
     "end_time": "2024-08-21T13:19:48.531714Z",
     "start_time": "2024-08-21T13:19:48.505581Z"
    }
   },
   "cell_type": "code",
   "source": [
    "newdf = pd.DataFrame(np.random.rand(334,5), index=np.arange(334))    # it will create a dataframe of 334 rows and 5 columns with random numbers\n",
    "newdf"
   ],
   "id": "86bf766ab1fc9764",
   "outputs": [
    {
     "data": {
      "text/plain": [
       "            0         1         2         3         4\n",
       "0    0.566420  0.109116  0.553146  0.719290  0.073574\n",
       "1    0.499391  0.324261  0.826938  0.069888  0.313209\n",
       "2    0.206317  0.917575  0.852326  0.742967  0.807267\n",
       "3    0.956460  0.275634  0.817539  0.247541  0.768511\n",
       "4    0.411373  0.867544  0.563451  0.347785  0.132129\n",
       "..        ...       ...       ...       ...       ...\n",
       "329  0.762124  0.560311  0.787922  0.573091  0.213955\n",
       "330  0.959496  0.212642  0.757585  0.336797  0.114100\n",
       "331  0.820799  0.345594  0.048503  0.160504  0.086007\n",
       "332  0.182218  0.497734  0.441668  0.982746  0.702265\n",
       "333  0.806343  0.285854  0.363006  0.674318  0.214490\n",
       "\n",
       "[334 rows x 5 columns]"
      ],
      "text/html": [
       "<div>\n",
       "<style scoped>\n",
       "    .dataframe tbody tr th:only-of-type {\n",
       "        vertical-align: middle;\n",
       "    }\n",
       "\n",
       "    .dataframe tbody tr th {\n",
       "        vertical-align: top;\n",
       "    }\n",
       "\n",
       "    .dataframe thead th {\n",
       "        text-align: right;\n",
       "    }\n",
       "</style>\n",
       "<table border=\"1\" class=\"dataframe\">\n",
       "  <thead>\n",
       "    <tr style=\"text-align: right;\">\n",
       "      <th></th>\n",
       "      <th>0</th>\n",
       "      <th>1</th>\n",
       "      <th>2</th>\n",
       "      <th>3</th>\n",
       "      <th>4</th>\n",
       "    </tr>\n",
       "  </thead>\n",
       "  <tbody>\n",
       "    <tr>\n",
       "      <th>0</th>\n",
       "      <td>0.566420</td>\n",
       "      <td>0.109116</td>\n",
       "      <td>0.553146</td>\n",
       "      <td>0.719290</td>\n",
       "      <td>0.073574</td>\n",
       "    </tr>\n",
       "    <tr>\n",
       "      <th>1</th>\n",
       "      <td>0.499391</td>\n",
       "      <td>0.324261</td>\n",
       "      <td>0.826938</td>\n",
       "      <td>0.069888</td>\n",
       "      <td>0.313209</td>\n",
       "    </tr>\n",
       "    <tr>\n",
       "      <th>2</th>\n",
       "      <td>0.206317</td>\n",
       "      <td>0.917575</td>\n",
       "      <td>0.852326</td>\n",
       "      <td>0.742967</td>\n",
       "      <td>0.807267</td>\n",
       "    </tr>\n",
       "    <tr>\n",
       "      <th>3</th>\n",
       "      <td>0.956460</td>\n",
       "      <td>0.275634</td>\n",
       "      <td>0.817539</td>\n",
       "      <td>0.247541</td>\n",
       "      <td>0.768511</td>\n",
       "    </tr>\n",
       "    <tr>\n",
       "      <th>4</th>\n",
       "      <td>0.411373</td>\n",
       "      <td>0.867544</td>\n",
       "      <td>0.563451</td>\n",
       "      <td>0.347785</td>\n",
       "      <td>0.132129</td>\n",
       "    </tr>\n",
       "    <tr>\n",
       "      <th>...</th>\n",
       "      <td>...</td>\n",
       "      <td>...</td>\n",
       "      <td>...</td>\n",
       "      <td>...</td>\n",
       "      <td>...</td>\n",
       "    </tr>\n",
       "    <tr>\n",
       "      <th>329</th>\n",
       "      <td>0.762124</td>\n",
       "      <td>0.560311</td>\n",
       "      <td>0.787922</td>\n",
       "      <td>0.573091</td>\n",
       "      <td>0.213955</td>\n",
       "    </tr>\n",
       "    <tr>\n",
       "      <th>330</th>\n",
       "      <td>0.959496</td>\n",
       "      <td>0.212642</td>\n",
       "      <td>0.757585</td>\n",
       "      <td>0.336797</td>\n",
       "      <td>0.114100</td>\n",
       "    </tr>\n",
       "    <tr>\n",
       "      <th>331</th>\n",
       "      <td>0.820799</td>\n",
       "      <td>0.345594</td>\n",
       "      <td>0.048503</td>\n",
       "      <td>0.160504</td>\n",
       "      <td>0.086007</td>\n",
       "    </tr>\n",
       "    <tr>\n",
       "      <th>332</th>\n",
       "      <td>0.182218</td>\n",
       "      <td>0.497734</td>\n",
       "      <td>0.441668</td>\n",
       "      <td>0.982746</td>\n",
       "      <td>0.702265</td>\n",
       "    </tr>\n",
       "    <tr>\n",
       "      <th>333</th>\n",
       "      <td>0.806343</td>\n",
       "      <td>0.285854</td>\n",
       "      <td>0.363006</td>\n",
       "      <td>0.674318</td>\n",
       "      <td>0.214490</td>\n",
       "    </tr>\n",
       "  </tbody>\n",
       "</table>\n",
       "<p>334 rows × 5 columns</p>\n",
       "</div>"
      ]
     },
     "execution_count": 28,
     "metadata": {},
     "output_type": "execute_result"
    }
   ],
   "execution_count": 28
  },
  {
   "metadata": {
    "ExecuteTime": {
     "end_time": "2024-08-21T13:21:03.223468Z",
     "start_time": "2024-08-21T13:21:03.208852Z"
    }
   },
   "cell_type": "code",
   "source": "newdf.dtypes    # it will print the data types of the dataframe",
   "id": "bed9fd8b4c28edd7",
   "outputs": [
    {
     "data": {
      "text/plain": [
       "0    float64\n",
       "1    float64\n",
       "2    float64\n",
       "3    float64\n",
       "4    float64\n",
       "dtype: object"
      ]
     },
     "execution_count": 29,
     "metadata": {},
     "output_type": "execute_result"
    }
   ],
   "execution_count": 29
  },
  {
   "metadata": {
    "ExecuteTime": {
     "end_time": "2024-08-21T13:23:50.055226Z",
     "start_time": "2024-08-21T13:23:50.030086Z"
    }
   },
   "cell_type": "code",
   "source": "newdf.index   # for index list ",
   "id": "aa93e9e3e39ecc07",
   "outputs": [
    {
     "data": {
      "text/plain": [
       "Index([  0,   1,   2,   3,   4,   5,   6,   7,   8,   9,\n",
       "       ...\n",
       "       324, 325, 326, 327, 328, 329, 330, 331, 332, 333],\n",
       "      dtype='int32', length=334)"
      ]
     },
     "execution_count": 32,
     "metadata": {},
     "output_type": "execute_result"
    }
   ],
   "execution_count": 32
  },
  {
   "metadata": {
    "ExecuteTime": {
     "end_time": "2024-08-21T13:23:54.018494Z",
     "start_time": "2024-08-21T13:23:54.012020Z"
    }
   },
   "cell_type": "code",
   "source": "newdf.columns   # for columns list",
   "id": "ecd8d902b5fa038",
   "outputs": [
    {
     "data": {
      "text/plain": [
       "RangeIndex(start=0, stop=5, step=1)"
      ]
     },
     "execution_count": 33,
     "metadata": {},
     "output_type": "execute_result"
    }
   ],
   "execution_count": 33
  },
  {
   "metadata": {
    "ExecuteTime": {
     "end_time": "2024-08-21T13:24:19.025288Z",
     "start_time": "2024-08-21T13:24:19.006047Z"
    }
   },
   "cell_type": "code",
   "source": "newdf.to_numpy()    # it will convert the dataframe to numpy array",
   "id": "1a8570e1f24d0df9",
   "outputs": [
    {
     "data": {
      "text/plain": [
       "array([[0.56642046, 0.10911614, 0.55314605, 0.7192895 , 0.07357352],\n",
       "       [0.49939126, 0.32426105, 0.82693762, 0.06988824, 0.31320899],\n",
       "       [0.20631674, 0.91757468, 0.85232559, 0.74296715, 0.80726732],\n",
       "       ...,\n",
       "       [0.82079895, 0.34559353, 0.04850272, 0.1605038 , 0.08600667],\n",
       "       [0.18221803, 0.49773369, 0.44166766, 0.98274644, 0.70226465],\n",
       "       [0.80634341, 0.28585408, 0.36300634, 0.67431757, 0.21449018]])"
      ]
     },
     "execution_count": 34,
     "metadata": {},
     "output_type": "execute_result"
    }
   ],
   "execution_count": 34
  },
  {
   "metadata": {
    "ExecuteTime": {
     "end_time": "2024-08-21T13:25:14.459589Z",
     "start_time": "2024-08-21T13:25:14.396553Z"
    }
   },
   "cell_type": "code",
   "source": "newdf.T    # it will transpose the dataframe",
   "id": "96da3b8eaefacfe0",
   "outputs": [
    {
     "data": {
      "text/plain": [
       "        0         1         2         3         4         5         6    \\\n",
       "0  0.566420  0.499391  0.206317  0.956460  0.411373  0.604044  0.226270   \n",
       "1  0.109116  0.324261  0.917575  0.275634  0.867544  0.904748  0.710945   \n",
       "2  0.553146  0.826938  0.852326  0.817539  0.563451  0.461296  0.127676   \n",
       "3  0.719290  0.069888  0.742967  0.247541  0.347785  0.734100  0.294190   \n",
       "4  0.073574  0.313209  0.807267  0.768511  0.132129  0.415696  0.992731   \n",
       "\n",
       "        7         8         9    ...       324       325       326       327  \\\n",
       "0  0.131624  0.313464  0.106277  ...  0.325380  0.182576  0.495879  0.083947   \n",
       "1  0.081989  0.968339  0.176175  ...  0.532747  0.402600  0.034169  0.887234   \n",
       "2  0.548771  0.923181  0.231231  ...  0.136458  0.418739  0.969159  0.677836   \n",
       "3  0.975115  0.055634  0.570392  ...  0.934471  0.817165  0.147816  0.146223   \n",
       "4  0.780155  0.950675  0.144691  ...  0.537486  0.491381  0.825202  0.486692   \n",
       "\n",
       "        328       329       330       331       332       333  \n",
       "0  0.327242  0.762124  0.959496  0.820799  0.182218  0.806343  \n",
       "1  0.786269  0.560311  0.212642  0.345594  0.497734  0.285854  \n",
       "2  0.797566  0.787922  0.757585  0.048503  0.441668  0.363006  \n",
       "3  0.284616  0.573091  0.336797  0.160504  0.982746  0.674318  \n",
       "4  0.505358  0.213955  0.114100  0.086007  0.702265  0.214490  \n",
       "\n",
       "[5 rows x 334 columns]"
      ],
      "text/html": [
       "<div>\n",
       "<style scoped>\n",
       "    .dataframe tbody tr th:only-of-type {\n",
       "        vertical-align: middle;\n",
       "    }\n",
       "\n",
       "    .dataframe tbody tr th {\n",
       "        vertical-align: top;\n",
       "    }\n",
       "\n",
       "    .dataframe thead th {\n",
       "        text-align: right;\n",
       "    }\n",
       "</style>\n",
       "<table border=\"1\" class=\"dataframe\">\n",
       "  <thead>\n",
       "    <tr style=\"text-align: right;\">\n",
       "      <th></th>\n",
       "      <th>0</th>\n",
       "      <th>1</th>\n",
       "      <th>2</th>\n",
       "      <th>3</th>\n",
       "      <th>4</th>\n",
       "      <th>5</th>\n",
       "      <th>6</th>\n",
       "      <th>7</th>\n",
       "      <th>8</th>\n",
       "      <th>9</th>\n",
       "      <th>...</th>\n",
       "      <th>324</th>\n",
       "      <th>325</th>\n",
       "      <th>326</th>\n",
       "      <th>327</th>\n",
       "      <th>328</th>\n",
       "      <th>329</th>\n",
       "      <th>330</th>\n",
       "      <th>331</th>\n",
       "      <th>332</th>\n",
       "      <th>333</th>\n",
       "    </tr>\n",
       "  </thead>\n",
       "  <tbody>\n",
       "    <tr>\n",
       "      <th>0</th>\n",
       "      <td>0.566420</td>\n",
       "      <td>0.499391</td>\n",
       "      <td>0.206317</td>\n",
       "      <td>0.956460</td>\n",
       "      <td>0.411373</td>\n",
       "      <td>0.604044</td>\n",
       "      <td>0.226270</td>\n",
       "      <td>0.131624</td>\n",
       "      <td>0.313464</td>\n",
       "      <td>0.106277</td>\n",
       "      <td>...</td>\n",
       "      <td>0.325380</td>\n",
       "      <td>0.182576</td>\n",
       "      <td>0.495879</td>\n",
       "      <td>0.083947</td>\n",
       "      <td>0.327242</td>\n",
       "      <td>0.762124</td>\n",
       "      <td>0.959496</td>\n",
       "      <td>0.820799</td>\n",
       "      <td>0.182218</td>\n",
       "      <td>0.806343</td>\n",
       "    </tr>\n",
       "    <tr>\n",
       "      <th>1</th>\n",
       "      <td>0.109116</td>\n",
       "      <td>0.324261</td>\n",
       "      <td>0.917575</td>\n",
       "      <td>0.275634</td>\n",
       "      <td>0.867544</td>\n",
       "      <td>0.904748</td>\n",
       "      <td>0.710945</td>\n",
       "      <td>0.081989</td>\n",
       "      <td>0.968339</td>\n",
       "      <td>0.176175</td>\n",
       "      <td>...</td>\n",
       "      <td>0.532747</td>\n",
       "      <td>0.402600</td>\n",
       "      <td>0.034169</td>\n",
       "      <td>0.887234</td>\n",
       "      <td>0.786269</td>\n",
       "      <td>0.560311</td>\n",
       "      <td>0.212642</td>\n",
       "      <td>0.345594</td>\n",
       "      <td>0.497734</td>\n",
       "      <td>0.285854</td>\n",
       "    </tr>\n",
       "    <tr>\n",
       "      <th>2</th>\n",
       "      <td>0.553146</td>\n",
       "      <td>0.826938</td>\n",
       "      <td>0.852326</td>\n",
       "      <td>0.817539</td>\n",
       "      <td>0.563451</td>\n",
       "      <td>0.461296</td>\n",
       "      <td>0.127676</td>\n",
       "      <td>0.548771</td>\n",
       "      <td>0.923181</td>\n",
       "      <td>0.231231</td>\n",
       "      <td>...</td>\n",
       "      <td>0.136458</td>\n",
       "      <td>0.418739</td>\n",
       "      <td>0.969159</td>\n",
       "      <td>0.677836</td>\n",
       "      <td>0.797566</td>\n",
       "      <td>0.787922</td>\n",
       "      <td>0.757585</td>\n",
       "      <td>0.048503</td>\n",
       "      <td>0.441668</td>\n",
       "      <td>0.363006</td>\n",
       "    </tr>\n",
       "    <tr>\n",
       "      <th>3</th>\n",
       "      <td>0.719290</td>\n",
       "      <td>0.069888</td>\n",
       "      <td>0.742967</td>\n",
       "      <td>0.247541</td>\n",
       "      <td>0.347785</td>\n",
       "      <td>0.734100</td>\n",
       "      <td>0.294190</td>\n",
       "      <td>0.975115</td>\n",
       "      <td>0.055634</td>\n",
       "      <td>0.570392</td>\n",
       "      <td>...</td>\n",
       "      <td>0.934471</td>\n",
       "      <td>0.817165</td>\n",
       "      <td>0.147816</td>\n",
       "      <td>0.146223</td>\n",
       "      <td>0.284616</td>\n",
       "      <td>0.573091</td>\n",
       "      <td>0.336797</td>\n",
       "      <td>0.160504</td>\n",
       "      <td>0.982746</td>\n",
       "      <td>0.674318</td>\n",
       "    </tr>\n",
       "    <tr>\n",
       "      <th>4</th>\n",
       "      <td>0.073574</td>\n",
       "      <td>0.313209</td>\n",
       "      <td>0.807267</td>\n",
       "      <td>0.768511</td>\n",
       "      <td>0.132129</td>\n",
       "      <td>0.415696</td>\n",
       "      <td>0.992731</td>\n",
       "      <td>0.780155</td>\n",
       "      <td>0.950675</td>\n",
       "      <td>0.144691</td>\n",
       "      <td>...</td>\n",
       "      <td>0.537486</td>\n",
       "      <td>0.491381</td>\n",
       "      <td>0.825202</td>\n",
       "      <td>0.486692</td>\n",
       "      <td>0.505358</td>\n",
       "      <td>0.213955</td>\n",
       "      <td>0.114100</td>\n",
       "      <td>0.086007</td>\n",
       "      <td>0.702265</td>\n",
       "      <td>0.214490</td>\n",
       "    </tr>\n",
       "  </tbody>\n",
       "</table>\n",
       "<p>5 rows × 334 columns</p>\n",
       "</div>"
      ]
     },
     "execution_count": 35,
     "metadata": {},
     "output_type": "execute_result"
    }
   ],
   "execution_count": 35
  },
  {
   "metadata": {
    "ExecuteTime": {
     "end_time": "2024-08-21T13:29:02.067204Z",
     "start_time": "2024-08-21T13:29:02.006527Z"
    }
   },
   "cell_type": "code",
   "source": "newdf.sort_index(axis=1, ascending=False)    # sorting based on y-axis",
   "id": "c86905aa74a708c3",
   "outputs": [
    {
     "data": {
      "text/plain": [
       "            4         3         2         1         0\n",
       "0    0.073574  0.719290  0.553146  0.109116  0.566420\n",
       "1    0.313209  0.069888  0.826938  0.324261  0.499391\n",
       "2    0.807267  0.742967  0.852326  0.917575  0.206317\n",
       "3    0.768511  0.247541  0.817539  0.275634  0.956460\n",
       "4    0.132129  0.347785  0.563451  0.867544  0.411373\n",
       "..        ...       ...       ...       ...       ...\n",
       "329  0.213955  0.573091  0.787922  0.560311  0.762124\n",
       "330  0.114100  0.336797  0.757585  0.212642  0.959496\n",
       "331  0.086007  0.160504  0.048503  0.345594  0.820799\n",
       "332  0.702265  0.982746  0.441668  0.497734  0.182218\n",
       "333  0.214490  0.674318  0.363006  0.285854  0.806343\n",
       "\n",
       "[334 rows x 5 columns]"
      ],
      "text/html": [
       "<div>\n",
       "<style scoped>\n",
       "    .dataframe tbody tr th:only-of-type {\n",
       "        vertical-align: middle;\n",
       "    }\n",
       "\n",
       "    .dataframe tbody tr th {\n",
       "        vertical-align: top;\n",
       "    }\n",
       "\n",
       "    .dataframe thead th {\n",
       "        text-align: right;\n",
       "    }\n",
       "</style>\n",
       "<table border=\"1\" class=\"dataframe\">\n",
       "  <thead>\n",
       "    <tr style=\"text-align: right;\">\n",
       "      <th></th>\n",
       "      <th>4</th>\n",
       "      <th>3</th>\n",
       "      <th>2</th>\n",
       "      <th>1</th>\n",
       "      <th>0</th>\n",
       "    </tr>\n",
       "  </thead>\n",
       "  <tbody>\n",
       "    <tr>\n",
       "      <th>0</th>\n",
       "      <td>0.073574</td>\n",
       "      <td>0.719290</td>\n",
       "      <td>0.553146</td>\n",
       "      <td>0.109116</td>\n",
       "      <td>0.566420</td>\n",
       "    </tr>\n",
       "    <tr>\n",
       "      <th>1</th>\n",
       "      <td>0.313209</td>\n",
       "      <td>0.069888</td>\n",
       "      <td>0.826938</td>\n",
       "      <td>0.324261</td>\n",
       "      <td>0.499391</td>\n",
       "    </tr>\n",
       "    <tr>\n",
       "      <th>2</th>\n",
       "      <td>0.807267</td>\n",
       "      <td>0.742967</td>\n",
       "      <td>0.852326</td>\n",
       "      <td>0.917575</td>\n",
       "      <td>0.206317</td>\n",
       "    </tr>\n",
       "    <tr>\n",
       "      <th>3</th>\n",
       "      <td>0.768511</td>\n",
       "      <td>0.247541</td>\n",
       "      <td>0.817539</td>\n",
       "      <td>0.275634</td>\n",
       "      <td>0.956460</td>\n",
       "    </tr>\n",
       "    <tr>\n",
       "      <th>4</th>\n",
       "      <td>0.132129</td>\n",
       "      <td>0.347785</td>\n",
       "      <td>0.563451</td>\n",
       "      <td>0.867544</td>\n",
       "      <td>0.411373</td>\n",
       "    </tr>\n",
       "    <tr>\n",
       "      <th>...</th>\n",
       "      <td>...</td>\n",
       "      <td>...</td>\n",
       "      <td>...</td>\n",
       "      <td>...</td>\n",
       "      <td>...</td>\n",
       "    </tr>\n",
       "    <tr>\n",
       "      <th>329</th>\n",
       "      <td>0.213955</td>\n",
       "      <td>0.573091</td>\n",
       "      <td>0.787922</td>\n",
       "      <td>0.560311</td>\n",
       "      <td>0.762124</td>\n",
       "    </tr>\n",
       "    <tr>\n",
       "      <th>330</th>\n",
       "      <td>0.114100</td>\n",
       "      <td>0.336797</td>\n",
       "      <td>0.757585</td>\n",
       "      <td>0.212642</td>\n",
       "      <td>0.959496</td>\n",
       "    </tr>\n",
       "    <tr>\n",
       "      <th>331</th>\n",
       "      <td>0.086007</td>\n",
       "      <td>0.160504</td>\n",
       "      <td>0.048503</td>\n",
       "      <td>0.345594</td>\n",
       "      <td>0.820799</td>\n",
       "    </tr>\n",
       "    <tr>\n",
       "      <th>332</th>\n",
       "      <td>0.702265</td>\n",
       "      <td>0.982746</td>\n",
       "      <td>0.441668</td>\n",
       "      <td>0.497734</td>\n",
       "      <td>0.182218</td>\n",
       "    </tr>\n",
       "    <tr>\n",
       "      <th>333</th>\n",
       "      <td>0.214490</td>\n",
       "      <td>0.674318</td>\n",
       "      <td>0.363006</td>\n",
       "      <td>0.285854</td>\n",
       "      <td>0.806343</td>\n",
       "    </tr>\n",
       "  </tbody>\n",
       "</table>\n",
       "<p>334 rows × 5 columns</p>\n",
       "</div>"
      ]
     },
     "execution_count": 39,
     "metadata": {},
     "output_type": "execute_result"
    }
   ],
   "execution_count": 39
  },
  {
   "metadata": {},
   "cell_type": "markdown",
   "source": [
    "### Copy and view \n",
    "#### View : it will change the original dataframe (changing parent will change the child)\n",
    "#### Copy : it will not change the original dataframe (changing parent will not change the child)"
   ],
   "id": "929a74ac62942775"
  },
  {
   "metadata": {},
   "cell_type": "code",
   "outputs": [],
   "execution_count": null,
   "source": [
    "# newdf2 = newdf.copy()    # it will create a copy of the dataframe | it's a copy\n",
    "# newdf2 = newdf    # it will create a view of the dataframe | its a view"
   ],
   "id": "345a211b231eb871"
  },
  {
   "metadata": {},
   "cell_type": "markdown",
   "source": "## To overcome the problem of SettingWithCopyWarning (changing values error using normal python code / method )",
   "id": "8849365d1f9518b0"
  },
  {
   "metadata": {
    "ExecuteTime": {
     "end_time": "2024-08-21T13:34:34.517410Z",
     "start_time": "2024-08-21T13:34:34.499743Z"
    }
   },
   "cell_type": "code",
   "source": "newdf2 = newdf.copy()",
   "id": "fe1a4cf9b85c3630",
   "outputs": [],
   "execution_count": 40
  },
  {
   "metadata": {
    "ExecuteTime": {
     "end_time": "2024-08-21T13:37:03.504384Z",
     "start_time": "2024-08-21T13:37:03.482912Z"
    }
   },
   "cell_type": "code",
   "source": "newdf.columns = list(\"ABCDE\")",
   "id": "4e94504a24e1649c",
   "outputs": [],
   "execution_count": 42
  },
  {
   "metadata": {
    "ExecuteTime": {
     "end_time": "2024-08-21T13:37:34.600975Z",
     "start_time": "2024-08-21T13:37:34.593661Z"
    }
   },
   "cell_type": "code",
   "source": "newdf.loc[0,'A'] = 654      # it will change the value of 0th row and A column",
   "id": "2f1d36299d64cf02",
   "outputs": [],
   "execution_count": 45
  },
  {
   "metadata": {
    "ExecuteTime": {
     "end_time": "2024-08-21T13:37:36.151120Z",
     "start_time": "2024-08-21T13:37:36.117208Z"
    }
   },
   "cell_type": "code",
   "source": "newdf.head()",
   "id": "cb4cd1a7f732f61e",
   "outputs": [
    {
     "data": {
      "text/plain": [
       "            A         B         C         D         E      0\n",
       "0  654.000000  0.109116  0.553146  0.719290  0.073574  654.0\n",
       "1    0.499391  0.324261  0.826938  0.069888  0.313209    NaN\n",
       "2    0.206317  0.917575  0.852326  0.742967  0.807267    NaN\n",
       "3    0.956460  0.275634  0.817539  0.247541  0.768511    NaN\n",
       "4    0.411373  0.867544  0.563451  0.347785  0.132129    NaN"
      ],
      "text/html": [
       "<div>\n",
       "<style scoped>\n",
       "    .dataframe tbody tr th:only-of-type {\n",
       "        vertical-align: middle;\n",
       "    }\n",
       "\n",
       "    .dataframe tbody tr th {\n",
       "        vertical-align: top;\n",
       "    }\n",
       "\n",
       "    .dataframe thead th {\n",
       "        text-align: right;\n",
       "    }\n",
       "</style>\n",
       "<table border=\"1\" class=\"dataframe\">\n",
       "  <thead>\n",
       "    <tr style=\"text-align: right;\">\n",
       "      <th></th>\n",
       "      <th>A</th>\n",
       "      <th>B</th>\n",
       "      <th>C</th>\n",
       "      <th>D</th>\n",
       "      <th>E</th>\n",
       "      <th>0</th>\n",
       "    </tr>\n",
       "  </thead>\n",
       "  <tbody>\n",
       "    <tr>\n",
       "      <th>0</th>\n",
       "      <td>654.000000</td>\n",
       "      <td>0.109116</td>\n",
       "      <td>0.553146</td>\n",
       "      <td>0.719290</td>\n",
       "      <td>0.073574</td>\n",
       "      <td>654.0</td>\n",
       "    </tr>\n",
       "    <tr>\n",
       "      <th>1</th>\n",
       "      <td>0.499391</td>\n",
       "      <td>0.324261</td>\n",
       "      <td>0.826938</td>\n",
       "      <td>0.069888</td>\n",
       "      <td>0.313209</td>\n",
       "      <td>NaN</td>\n",
       "    </tr>\n",
       "    <tr>\n",
       "      <th>2</th>\n",
       "      <td>0.206317</td>\n",
       "      <td>0.917575</td>\n",
       "      <td>0.852326</td>\n",
       "      <td>0.742967</td>\n",
       "      <td>0.807267</td>\n",
       "      <td>NaN</td>\n",
       "    </tr>\n",
       "    <tr>\n",
       "      <th>3</th>\n",
       "      <td>0.956460</td>\n",
       "      <td>0.275634</td>\n",
       "      <td>0.817539</td>\n",
       "      <td>0.247541</td>\n",
       "      <td>0.768511</td>\n",
       "      <td>NaN</td>\n",
       "    </tr>\n",
       "    <tr>\n",
       "      <th>4</th>\n",
       "      <td>0.411373</td>\n",
       "      <td>0.867544</td>\n",
       "      <td>0.563451</td>\n",
       "      <td>0.347785</td>\n",
       "      <td>0.132129</td>\n",
       "      <td>NaN</td>\n",
       "    </tr>\n",
       "  </tbody>\n",
       "</table>\n",
       "</div>"
      ]
     },
     "execution_count": 46,
     "metadata": {},
     "output_type": "execute_result"
    }
   ],
   "execution_count": 46
  },
  {
   "metadata": {
    "ExecuteTime": {
     "end_time": "2024-08-21T13:41:05.372422Z",
     "start_time": "2024-08-21T13:41:05.356084Z"
    }
   },
   "cell_type": "code",
   "source": "newdf = newdf.drop(0, axis=1) # it will drop the 0th row",
   "id": "ee46f71f1ba82af",
   "outputs": [
    {
     "data": {
      "text/plain": [
       "              A         B         C         D         E\n",
       "0    654.000000  0.109116  0.553146  0.719290  0.073574\n",
       "1      0.499391  0.324261  0.826938  0.069888  0.313209\n",
       "2      0.206317  0.917575  0.852326  0.742967  0.807267\n",
       "3      0.956460  0.275634  0.817539  0.247541  0.768511\n",
       "4      0.411373  0.867544  0.563451  0.347785  0.132129\n",
       "..          ...       ...       ...       ...       ...\n",
       "329    0.762124  0.560311  0.787922  0.573091  0.213955\n",
       "330    0.959496  0.212642  0.757585  0.336797  0.114100\n",
       "331    0.820799  0.345594  0.048503  0.160504  0.086007\n",
       "332    0.182218  0.497734  0.441668  0.982746  0.702265\n",
       "333    0.806343  0.285854  0.363006  0.674318  0.214490\n",
       "\n",
       "[334 rows x 5 columns]"
      ],
      "text/html": [
       "<div>\n",
       "<style scoped>\n",
       "    .dataframe tbody tr th:only-of-type {\n",
       "        vertical-align: middle;\n",
       "    }\n",
       "\n",
       "    .dataframe tbody tr th {\n",
       "        vertical-align: top;\n",
       "    }\n",
       "\n",
       "    .dataframe thead th {\n",
       "        text-align: right;\n",
       "    }\n",
       "</style>\n",
       "<table border=\"1\" class=\"dataframe\">\n",
       "  <thead>\n",
       "    <tr style=\"text-align: right;\">\n",
       "      <th></th>\n",
       "      <th>A</th>\n",
       "      <th>B</th>\n",
       "      <th>C</th>\n",
       "      <th>D</th>\n",
       "      <th>E</th>\n",
       "    </tr>\n",
       "  </thead>\n",
       "  <tbody>\n",
       "    <tr>\n",
       "      <th>0</th>\n",
       "      <td>654.000000</td>\n",
       "      <td>0.109116</td>\n",
       "      <td>0.553146</td>\n",
       "      <td>0.719290</td>\n",
       "      <td>0.073574</td>\n",
       "    </tr>\n",
       "    <tr>\n",
       "      <th>1</th>\n",
       "      <td>0.499391</td>\n",
       "      <td>0.324261</td>\n",
       "      <td>0.826938</td>\n",
       "      <td>0.069888</td>\n",
       "      <td>0.313209</td>\n",
       "    </tr>\n",
       "    <tr>\n",
       "      <th>2</th>\n",
       "      <td>0.206317</td>\n",
       "      <td>0.917575</td>\n",
       "      <td>0.852326</td>\n",
       "      <td>0.742967</td>\n",
       "      <td>0.807267</td>\n",
       "    </tr>\n",
       "    <tr>\n",
       "      <th>3</th>\n",
       "      <td>0.956460</td>\n",
       "      <td>0.275634</td>\n",
       "      <td>0.817539</td>\n",
       "      <td>0.247541</td>\n",
       "      <td>0.768511</td>\n",
       "    </tr>\n",
       "    <tr>\n",
       "      <th>4</th>\n",
       "      <td>0.411373</td>\n",
       "      <td>0.867544</td>\n",
       "      <td>0.563451</td>\n",
       "      <td>0.347785</td>\n",
       "      <td>0.132129</td>\n",
       "    </tr>\n",
       "    <tr>\n",
       "      <th>...</th>\n",
       "      <td>...</td>\n",
       "      <td>...</td>\n",
       "      <td>...</td>\n",
       "      <td>...</td>\n",
       "      <td>...</td>\n",
       "    </tr>\n",
       "    <tr>\n",
       "      <th>329</th>\n",
       "      <td>0.762124</td>\n",
       "      <td>0.560311</td>\n",
       "      <td>0.787922</td>\n",
       "      <td>0.573091</td>\n",
       "      <td>0.213955</td>\n",
       "    </tr>\n",
       "    <tr>\n",
       "      <th>330</th>\n",
       "      <td>0.959496</td>\n",
       "      <td>0.212642</td>\n",
       "      <td>0.757585</td>\n",
       "      <td>0.336797</td>\n",
       "      <td>0.114100</td>\n",
       "    </tr>\n",
       "    <tr>\n",
       "      <th>331</th>\n",
       "      <td>0.820799</td>\n",
       "      <td>0.345594</td>\n",
       "      <td>0.048503</td>\n",
       "      <td>0.160504</td>\n",
       "      <td>0.086007</td>\n",
       "    </tr>\n",
       "    <tr>\n",
       "      <th>332</th>\n",
       "      <td>0.182218</td>\n",
       "      <td>0.497734</td>\n",
       "      <td>0.441668</td>\n",
       "      <td>0.982746</td>\n",
       "      <td>0.702265</td>\n",
       "    </tr>\n",
       "    <tr>\n",
       "      <th>333</th>\n",
       "      <td>0.806343</td>\n",
       "      <td>0.285854</td>\n",
       "      <td>0.363006</td>\n",
       "      <td>0.674318</td>\n",
       "      <td>0.214490</td>\n",
       "    </tr>\n",
       "  </tbody>\n",
       "</table>\n",
       "<p>334 rows × 5 columns</p>\n",
       "</div>"
      ]
     },
     "execution_count": 53,
     "metadata": {},
     "output_type": "execute_result"
    }
   ],
   "execution_count": 53
  },
  {
   "metadata": {
    "ExecuteTime": {
     "end_time": "2024-08-21T13:43:32.517122Z",
     "start_time": "2024-08-21T13:43:32.483851Z"
    }
   },
   "cell_type": "code",
   "source": [
    "newdf.loc[[1,4], ['C', 'D']]\n",
    "# newdf.loc[:, ['C', 'D']]     # for all rows\n",
    "# newdf.loc[[1,4], :]     # for all columns"
   ],
   "id": "398549ada8c8029d",
   "outputs": [
    {
     "data": {
      "text/plain": [
       "          C         D\n",
       "1  0.826938  0.069888\n",
       "4  0.563451  0.347785"
      ],
      "text/html": [
       "<div>\n",
       "<style scoped>\n",
       "    .dataframe tbody tr th:only-of-type {\n",
       "        vertical-align: middle;\n",
       "    }\n",
       "\n",
       "    .dataframe tbody tr th {\n",
       "        vertical-align: top;\n",
       "    }\n",
       "\n",
       "    .dataframe thead th {\n",
       "        text-align: right;\n",
       "    }\n",
       "</style>\n",
       "<table border=\"1\" class=\"dataframe\">\n",
       "  <thead>\n",
       "    <tr style=\"text-align: right;\">\n",
       "      <th></th>\n",
       "      <th>C</th>\n",
       "      <th>D</th>\n",
       "    </tr>\n",
       "  </thead>\n",
       "  <tbody>\n",
       "    <tr>\n",
       "      <th>1</th>\n",
       "      <td>0.826938</td>\n",
       "      <td>0.069888</td>\n",
       "    </tr>\n",
       "    <tr>\n",
       "      <th>4</th>\n",
       "      <td>0.563451</td>\n",
       "      <td>0.347785</td>\n",
       "    </tr>\n",
       "  </tbody>\n",
       "</table>\n",
       "</div>"
      ]
     },
     "execution_count": 55,
     "metadata": {},
     "output_type": "execute_result"
    }
   ],
   "execution_count": 55
  },
  {
   "metadata": {
    "ExecuteTime": {
     "end_time": "2024-08-21T13:46:16.710948Z",
     "start_time": "2024-08-21T13:46:16.673646Z"
    }
   },
   "cell_type": "code",
   "source": "newdf.loc[(newdf['A']<0.3) & (newdf['C']>0.1)]    # conditional statements",
   "id": "d1043da87a652cb8",
   "outputs": [
    {
     "data": {
      "text/plain": [
       "            A         B         C         D         E\n",
       "2    0.206317  0.917575  0.852326  0.742967  0.807267\n",
       "6    0.226270  0.710945  0.127676  0.294190  0.992731\n",
       "7    0.131624  0.081989  0.548771  0.975115  0.780155\n",
       "9    0.106277  0.176175  0.231231  0.570392  0.144691\n",
       "12   0.257807  0.792833  0.763763  0.927087  0.268668\n",
       "..        ...       ...       ...       ...       ...\n",
       "321  0.048045  0.955125  0.755305  0.860068  0.703129\n",
       "322  0.232891  0.788853  0.674189  0.260410  0.372012\n",
       "325  0.182576  0.402600  0.418739  0.817165  0.491381\n",
       "327  0.083947  0.887234  0.677836  0.146223  0.486692\n",
       "332  0.182218  0.497734  0.441668  0.982746  0.702265\n",
       "\n",
       "[99 rows x 5 columns]"
      ],
      "text/html": [
       "<div>\n",
       "<style scoped>\n",
       "    .dataframe tbody tr th:only-of-type {\n",
       "        vertical-align: middle;\n",
       "    }\n",
       "\n",
       "    .dataframe tbody tr th {\n",
       "        vertical-align: top;\n",
       "    }\n",
       "\n",
       "    .dataframe thead th {\n",
       "        text-align: right;\n",
       "    }\n",
       "</style>\n",
       "<table border=\"1\" class=\"dataframe\">\n",
       "  <thead>\n",
       "    <tr style=\"text-align: right;\">\n",
       "      <th></th>\n",
       "      <th>A</th>\n",
       "      <th>B</th>\n",
       "      <th>C</th>\n",
       "      <th>D</th>\n",
       "      <th>E</th>\n",
       "    </tr>\n",
       "  </thead>\n",
       "  <tbody>\n",
       "    <tr>\n",
       "      <th>2</th>\n",
       "      <td>0.206317</td>\n",
       "      <td>0.917575</td>\n",
       "      <td>0.852326</td>\n",
       "      <td>0.742967</td>\n",
       "      <td>0.807267</td>\n",
       "    </tr>\n",
       "    <tr>\n",
       "      <th>6</th>\n",
       "      <td>0.226270</td>\n",
       "      <td>0.710945</td>\n",
       "      <td>0.127676</td>\n",
       "      <td>0.294190</td>\n",
       "      <td>0.992731</td>\n",
       "    </tr>\n",
       "    <tr>\n",
       "      <th>7</th>\n",
       "      <td>0.131624</td>\n",
       "      <td>0.081989</td>\n",
       "      <td>0.548771</td>\n",
       "      <td>0.975115</td>\n",
       "      <td>0.780155</td>\n",
       "    </tr>\n",
       "    <tr>\n",
       "      <th>9</th>\n",
       "      <td>0.106277</td>\n",
       "      <td>0.176175</td>\n",
       "      <td>0.231231</td>\n",
       "      <td>0.570392</td>\n",
       "      <td>0.144691</td>\n",
       "    </tr>\n",
       "    <tr>\n",
       "      <th>12</th>\n",
       "      <td>0.257807</td>\n",
       "      <td>0.792833</td>\n",
       "      <td>0.763763</td>\n",
       "      <td>0.927087</td>\n",
       "      <td>0.268668</td>\n",
       "    </tr>\n",
       "    <tr>\n",
       "      <th>...</th>\n",
       "      <td>...</td>\n",
       "      <td>...</td>\n",
       "      <td>...</td>\n",
       "      <td>...</td>\n",
       "      <td>...</td>\n",
       "    </tr>\n",
       "    <tr>\n",
       "      <th>321</th>\n",
       "      <td>0.048045</td>\n",
       "      <td>0.955125</td>\n",
       "      <td>0.755305</td>\n",
       "      <td>0.860068</td>\n",
       "      <td>0.703129</td>\n",
       "    </tr>\n",
       "    <tr>\n",
       "      <th>322</th>\n",
       "      <td>0.232891</td>\n",
       "      <td>0.788853</td>\n",
       "      <td>0.674189</td>\n",
       "      <td>0.260410</td>\n",
       "      <td>0.372012</td>\n",
       "    </tr>\n",
       "    <tr>\n",
       "      <th>325</th>\n",
       "      <td>0.182576</td>\n",
       "      <td>0.402600</td>\n",
       "      <td>0.418739</td>\n",
       "      <td>0.817165</td>\n",
       "      <td>0.491381</td>\n",
       "    </tr>\n",
       "    <tr>\n",
       "      <th>327</th>\n",
       "      <td>0.083947</td>\n",
       "      <td>0.887234</td>\n",
       "      <td>0.677836</td>\n",
       "      <td>0.146223</td>\n",
       "      <td>0.486692</td>\n",
       "    </tr>\n",
       "    <tr>\n",
       "      <th>332</th>\n",
       "      <td>0.182218</td>\n",
       "      <td>0.497734</td>\n",
       "      <td>0.441668</td>\n",
       "      <td>0.982746</td>\n",
       "      <td>0.702265</td>\n",
       "    </tr>\n",
       "  </tbody>\n",
       "</table>\n",
       "<p>99 rows × 5 columns</p>\n",
       "</div>"
      ]
     },
     "execution_count": 56,
     "metadata": {},
     "output_type": "execute_result"
    }
   ],
   "execution_count": 56
  },
  {
   "metadata": {
    "ExecuteTime": {
     "end_time": "2024-08-21T13:48:49.242837Z",
     "start_time": "2024-08-21T13:48:49.196951Z"
    }
   },
   "cell_type": "code",
   "source": "newdf.iloc[[1,3], [2.4]]     # it will print the values of 1st and 3rd row and 2nd and 4th column",
   "id": "9d3270922e5a7546",
   "outputs": [
    {
     "data": {
      "text/plain": [
       "          C\n",
       "1  0.826938\n",
       "3  0.817539"
      ],
      "text/html": [
       "<div>\n",
       "<style scoped>\n",
       "    .dataframe tbody tr th:only-of-type {\n",
       "        vertical-align: middle;\n",
       "    }\n",
       "\n",
       "    .dataframe tbody tr th {\n",
       "        vertical-align: top;\n",
       "    }\n",
       "\n",
       "    .dataframe thead th {\n",
       "        text-align: right;\n",
       "    }\n",
       "</style>\n",
       "<table border=\"1\" class=\"dataframe\">\n",
       "  <thead>\n",
       "    <tr style=\"text-align: right;\">\n",
       "      <th></th>\n",
       "      <th>C</th>\n",
       "    </tr>\n",
       "  </thead>\n",
       "  <tbody>\n",
       "    <tr>\n",
       "      <th>1</th>\n",
       "      <td>0.826938</td>\n",
       "    </tr>\n",
       "    <tr>\n",
       "      <th>3</th>\n",
       "      <td>0.817539</td>\n",
       "    </tr>\n",
       "  </tbody>\n",
       "</table>\n",
       "</div>"
      ]
     },
     "execution_count": 62,
     "metadata": {},
     "output_type": "execute_result"
    }
   ],
   "execution_count": 62
  },
  {
   "metadata": {},
   "cell_type": "markdown",
   "source": [
    "difference between loc and iloc\n",
    "* loc : it will take the names of the rows and columns\n",
    "* iloc : it will take the index of the rows and columns"
   ],
   "id": "f08e717dbd548649"
  },
  {
   "metadata": {
    "ExecuteTime": {
     "end_time": "2024-08-21T13:51:36.036748Z",
     "start_time": "2024-08-21T13:51:36.010317Z"
    }
   },
   "cell_type": "code",
   "source": "newdf.drop([1,5], axis=0, inplace=True)    # it effect the original dataframe",
   "id": "dad08f017b25994",
   "outputs": [],
   "execution_count": 63
  },
  {
   "metadata": {
    "ExecuteTime": {
     "end_time": "2024-08-21T13:51:49.683984Z",
     "start_time": "2024-08-21T13:51:49.669482Z"
    }
   },
   "cell_type": "code",
   "source": "newdf.reset_index(drop=True, inplace=True)    # it will reset the index",
   "id": "afed9d01764fbe57",
   "outputs": [],
   "execution_count": 64
  },
  {
   "metadata": {
    "ExecuteTime": {
     "end_time": "2024-08-21T13:53:19.075527Z",
     "start_time": "2024-08-21T13:53:19.061873Z"
    }
   },
   "cell_type": "code",
   "source": "newdf['A'].isnull()    # it will check the null values in the column",
   "id": "73b022ee72bfaa88",
   "outputs": [
    {
     "data": {
      "text/plain": [
       "0      False\n",
       "1      False\n",
       "2      False\n",
       "3      False\n",
       "4      False\n",
       "       ...  \n",
       "327    False\n",
       "328    False\n",
       "329    False\n",
       "330    False\n",
       "331    False\n",
       "Name: A, Length: 332, dtype: bool"
      ]
     },
     "execution_count": 65,
     "metadata": {},
     "output_type": "execute_result"
    }
   ],
   "execution_count": 65
  },
  {
   "metadata": {
    "ExecuteTime": {
     "end_time": "2024-08-21T13:53:33.577507Z",
     "start_time": "2024-08-21T13:53:33.539695Z"
    }
   },
   "cell_type": "code",
   "source": "newdf['A'].notnull()    # it will check the non-null values in the column",
   "id": "d7917754f7306cb8",
   "outputs": [
    {
     "data": {
      "text/plain": [
       "0      True\n",
       "1      True\n",
       "2      True\n",
       "3      True\n",
       "4      True\n",
       "       ... \n",
       "327    True\n",
       "328    True\n",
       "329    True\n",
       "330    True\n",
       "331    True\n",
       "Name: A, Length: 332, dtype: bool"
      ]
     },
     "execution_count": 66,
     "metadata": {},
     "output_type": "execute_result"
    }
   ],
   "execution_count": 66
  },
  {
   "metadata": {
    "ExecuteTime": {
     "end_time": "2024-08-21T13:53:44.438258Z",
     "start_time": "2024-08-21T13:53:44.374134Z"
    }
   },
   "cell_type": "code",
   "source": "newdf.dropna()    # it will drop the null values",
   "id": "671c24e44bf108dc",
   "outputs": [
    {
     "data": {
      "text/plain": [
       "              A         B         C         D           E\n",
       "0    654.000000  0.109116  0.553146  0.719290  654.000000\n",
       "1      0.206317  0.917575  0.852326  0.742967    0.807267\n",
       "2      0.956460  0.275634  0.817539  0.247541    0.768511\n",
       "3      0.411373  0.867544  0.563451  0.347785    0.132129\n",
       "4      0.226270  0.710945  0.127676  0.294190    0.992731\n",
       "..          ...       ...       ...       ...         ...\n",
       "327    0.762124  0.560311  0.787922  0.573091    0.213955\n",
       "328    0.959496  0.212642  0.757585  0.336797    0.114100\n",
       "329    0.820799  0.345594  0.048503  0.160504    0.086007\n",
       "330    0.182218  0.497734  0.441668  0.982746    0.702265\n",
       "331    0.806343  0.285854  0.363006  0.674318    0.214490\n",
       "\n",
       "[332 rows x 5 columns]"
      ],
      "text/html": [
       "<div>\n",
       "<style scoped>\n",
       "    .dataframe tbody tr th:only-of-type {\n",
       "        vertical-align: middle;\n",
       "    }\n",
       "\n",
       "    .dataframe tbody tr th {\n",
       "        vertical-align: top;\n",
       "    }\n",
       "\n",
       "    .dataframe thead th {\n",
       "        text-align: right;\n",
       "    }\n",
       "</style>\n",
       "<table border=\"1\" class=\"dataframe\">\n",
       "  <thead>\n",
       "    <tr style=\"text-align: right;\">\n",
       "      <th></th>\n",
       "      <th>A</th>\n",
       "      <th>B</th>\n",
       "      <th>C</th>\n",
       "      <th>D</th>\n",
       "      <th>E</th>\n",
       "    </tr>\n",
       "  </thead>\n",
       "  <tbody>\n",
       "    <tr>\n",
       "      <th>0</th>\n",
       "      <td>654.000000</td>\n",
       "      <td>0.109116</td>\n",
       "      <td>0.553146</td>\n",
       "      <td>0.719290</td>\n",
       "      <td>654.000000</td>\n",
       "    </tr>\n",
       "    <tr>\n",
       "      <th>1</th>\n",
       "      <td>0.206317</td>\n",
       "      <td>0.917575</td>\n",
       "      <td>0.852326</td>\n",
       "      <td>0.742967</td>\n",
       "      <td>0.807267</td>\n",
       "    </tr>\n",
       "    <tr>\n",
       "      <th>2</th>\n",
       "      <td>0.956460</td>\n",
       "      <td>0.275634</td>\n",
       "      <td>0.817539</td>\n",
       "      <td>0.247541</td>\n",
       "      <td>0.768511</td>\n",
       "    </tr>\n",
       "    <tr>\n",
       "      <th>3</th>\n",
       "      <td>0.411373</td>\n",
       "      <td>0.867544</td>\n",
       "      <td>0.563451</td>\n",
       "      <td>0.347785</td>\n",
       "      <td>0.132129</td>\n",
       "    </tr>\n",
       "    <tr>\n",
       "      <th>4</th>\n",
       "      <td>0.226270</td>\n",
       "      <td>0.710945</td>\n",
       "      <td>0.127676</td>\n",
       "      <td>0.294190</td>\n",
       "      <td>0.992731</td>\n",
       "    </tr>\n",
       "    <tr>\n",
       "      <th>...</th>\n",
       "      <td>...</td>\n",
       "      <td>...</td>\n",
       "      <td>...</td>\n",
       "      <td>...</td>\n",
       "      <td>...</td>\n",
       "    </tr>\n",
       "    <tr>\n",
       "      <th>327</th>\n",
       "      <td>0.762124</td>\n",
       "      <td>0.560311</td>\n",
       "      <td>0.787922</td>\n",
       "      <td>0.573091</td>\n",
       "      <td>0.213955</td>\n",
       "    </tr>\n",
       "    <tr>\n",
       "      <th>328</th>\n",
       "      <td>0.959496</td>\n",
       "      <td>0.212642</td>\n",
       "      <td>0.757585</td>\n",
       "      <td>0.336797</td>\n",
       "      <td>0.114100</td>\n",
       "    </tr>\n",
       "    <tr>\n",
       "      <th>329</th>\n",
       "      <td>0.820799</td>\n",
       "      <td>0.345594</td>\n",
       "      <td>0.048503</td>\n",
       "      <td>0.160504</td>\n",
       "      <td>0.086007</td>\n",
       "    </tr>\n",
       "    <tr>\n",
       "      <th>330</th>\n",
       "      <td>0.182218</td>\n",
       "      <td>0.497734</td>\n",
       "      <td>0.441668</td>\n",
       "      <td>0.982746</td>\n",
       "      <td>0.702265</td>\n",
       "    </tr>\n",
       "    <tr>\n",
       "      <th>331</th>\n",
       "      <td>0.806343</td>\n",
       "      <td>0.285854</td>\n",
       "      <td>0.363006</td>\n",
       "      <td>0.674318</td>\n",
       "      <td>0.214490</td>\n",
       "    </tr>\n",
       "  </tbody>\n",
       "</table>\n",
       "<p>332 rows × 5 columns</p>\n",
       "</div>"
      ]
     },
     "execution_count": 67,
     "metadata": {},
     "output_type": "execute_result"
    }
   ],
   "execution_count": 67
  },
  {
   "metadata": {
    "ExecuteTime": {
     "end_time": "2024-08-21T13:55:27.655870Z",
     "start_time": "2024-08-21T13:55:27.604831Z"
    }
   },
   "cell_type": "code",
   "source": "newdf.drop_duplicates()    # it will drop the duplicate values",
   "id": "27175ce8e4cdac7a",
   "outputs": [
    {
     "data": {
      "text/plain": [
       "              A         B         C         D           E\n",
       "0    654.000000  0.109116  0.553146  0.719290  654.000000\n",
       "1      0.206317  0.917575  0.852326  0.742967    0.807267\n",
       "2      0.956460  0.275634  0.817539  0.247541    0.768511\n",
       "3      0.411373  0.867544  0.563451  0.347785    0.132129\n",
       "4      0.226270  0.710945  0.127676  0.294190    0.992731\n",
       "..          ...       ...       ...       ...         ...\n",
       "327    0.762124  0.560311  0.787922  0.573091    0.213955\n",
       "328    0.959496  0.212642  0.757585  0.336797    0.114100\n",
       "329    0.820799  0.345594  0.048503  0.160504    0.086007\n",
       "330    0.182218  0.497734  0.441668  0.982746    0.702265\n",
       "331    0.806343  0.285854  0.363006  0.674318    0.214490\n",
       "\n",
       "[332 rows x 5 columns]"
      ],
      "text/html": [
       "<div>\n",
       "<style scoped>\n",
       "    .dataframe tbody tr th:only-of-type {\n",
       "        vertical-align: middle;\n",
       "    }\n",
       "\n",
       "    .dataframe tbody tr th {\n",
       "        vertical-align: top;\n",
       "    }\n",
       "\n",
       "    .dataframe thead th {\n",
       "        text-align: right;\n",
       "    }\n",
       "</style>\n",
       "<table border=\"1\" class=\"dataframe\">\n",
       "  <thead>\n",
       "    <tr style=\"text-align: right;\">\n",
       "      <th></th>\n",
       "      <th>A</th>\n",
       "      <th>B</th>\n",
       "      <th>C</th>\n",
       "      <th>D</th>\n",
       "      <th>E</th>\n",
       "    </tr>\n",
       "  </thead>\n",
       "  <tbody>\n",
       "    <tr>\n",
       "      <th>0</th>\n",
       "      <td>654.000000</td>\n",
       "      <td>0.109116</td>\n",
       "      <td>0.553146</td>\n",
       "      <td>0.719290</td>\n",
       "      <td>654.000000</td>\n",
       "    </tr>\n",
       "    <tr>\n",
       "      <th>1</th>\n",
       "      <td>0.206317</td>\n",
       "      <td>0.917575</td>\n",
       "      <td>0.852326</td>\n",
       "      <td>0.742967</td>\n",
       "      <td>0.807267</td>\n",
       "    </tr>\n",
       "    <tr>\n",
       "      <th>2</th>\n",
       "      <td>0.956460</td>\n",
       "      <td>0.275634</td>\n",
       "      <td>0.817539</td>\n",
       "      <td>0.247541</td>\n",
       "      <td>0.768511</td>\n",
       "    </tr>\n",
       "    <tr>\n",
       "      <th>3</th>\n",
       "      <td>0.411373</td>\n",
       "      <td>0.867544</td>\n",
       "      <td>0.563451</td>\n",
       "      <td>0.347785</td>\n",
       "      <td>0.132129</td>\n",
       "    </tr>\n",
       "    <tr>\n",
       "      <th>4</th>\n",
       "      <td>0.226270</td>\n",
       "      <td>0.710945</td>\n",
       "      <td>0.127676</td>\n",
       "      <td>0.294190</td>\n",
       "      <td>0.992731</td>\n",
       "    </tr>\n",
       "    <tr>\n",
       "      <th>...</th>\n",
       "      <td>...</td>\n",
       "      <td>...</td>\n",
       "      <td>...</td>\n",
       "      <td>...</td>\n",
       "      <td>...</td>\n",
       "    </tr>\n",
       "    <tr>\n",
       "      <th>327</th>\n",
       "      <td>0.762124</td>\n",
       "      <td>0.560311</td>\n",
       "      <td>0.787922</td>\n",
       "      <td>0.573091</td>\n",
       "      <td>0.213955</td>\n",
       "    </tr>\n",
       "    <tr>\n",
       "      <th>328</th>\n",
       "      <td>0.959496</td>\n",
       "      <td>0.212642</td>\n",
       "      <td>0.757585</td>\n",
       "      <td>0.336797</td>\n",
       "      <td>0.114100</td>\n",
       "    </tr>\n",
       "    <tr>\n",
       "      <th>329</th>\n",
       "      <td>0.820799</td>\n",
       "      <td>0.345594</td>\n",
       "      <td>0.048503</td>\n",
       "      <td>0.160504</td>\n",
       "      <td>0.086007</td>\n",
       "    </tr>\n",
       "    <tr>\n",
       "      <th>330</th>\n",
       "      <td>0.182218</td>\n",
       "      <td>0.497734</td>\n",
       "      <td>0.441668</td>\n",
       "      <td>0.982746</td>\n",
       "      <td>0.702265</td>\n",
       "    </tr>\n",
       "    <tr>\n",
       "      <th>331</th>\n",
       "      <td>0.806343</td>\n",
       "      <td>0.285854</td>\n",
       "      <td>0.363006</td>\n",
       "      <td>0.674318</td>\n",
       "      <td>0.214490</td>\n",
       "    </tr>\n",
       "  </tbody>\n",
       "</table>\n",
       "<p>332 rows × 5 columns</p>\n",
       "</div>"
      ]
     },
     "execution_count": 68,
     "metadata": {},
     "output_type": "execute_result"
    }
   ],
   "execution_count": 68
  },
  {
   "metadata": {
    "ExecuteTime": {
     "end_time": "2024-08-21T13:56:10.110055Z",
     "start_time": "2024-08-21T13:56:10.078869Z"
    }
   },
   "cell_type": "code",
   "source": "newdf['A'].value_counts()    # it will count the values of the column",
   "id": "fb1d4437b3d550a1",
   "outputs": [
    {
     "data": {
      "text/plain": [
       "A\n",
       "654.000000    1\n",
       "0.169444      1\n",
       "0.746985      1\n",
       "0.198886      1\n",
       "0.925447      1\n",
       "             ..\n",
       "0.696780      1\n",
       "0.511195      1\n",
       "0.238982      1\n",
       "0.166981      1\n",
       "0.806343      1\n",
       "Name: count, Length: 332, dtype: int64"
      ]
     },
     "execution_count": 69,
     "metadata": {},
     "output_type": "execute_result"
    }
   ],
   "execution_count": 69
  },
  {
   "metadata": {
    "ExecuteTime": {
     "end_time": "2024-08-21T13:56:45.116597Z",
     "start_time": "2024-08-21T13:56:45.020251Z"
    }
   },
   "cell_type": "code",
   "source": "newdf.info()",
   "id": "1276cad3288e5232",
   "outputs": [
    {
     "name": "stdout",
     "output_type": "stream",
     "text": [
      "<class 'pandas.core.frame.DataFrame'>\n",
      "RangeIndex: 332 entries, 0 to 331\n",
      "Data columns (total 5 columns):\n",
      " #   Column  Non-Null Count  Dtype  \n",
      "---  ------  --------------  -----  \n",
      " 0   A       332 non-null    float64\n",
      " 1   B       332 non-null    float64\n",
      " 2   C       332 non-null    float64\n",
      " 3   D       332 non-null    float64\n",
      " 4   E       332 non-null    float64\n",
      "dtypes: float64(5)\n",
      "memory usage: 13.1 KB\n"
     ]
    }
   ],
   "execution_count": 71
  },
  {
   "metadata": {},
   "cell_type": "code",
   "outputs": [],
   "execution_count": null,
   "source": [
    "#imp for statical analysis \n",
    "df.describe()\n",
    "df.mean()\n",
    "df.corr() # correlation\n",
    "df.count()\n",
    "df.min()\n",
    "df.max()\n",
    "df.median()\n",
    "df.std()"
   ],
   "id": "d7d48bb173d74f0"
  },
  {
   "metadata": {
    "ExecuteTime": {
     "end_time": "2024-08-21T14:05:06.738461Z",
     "start_time": "2024-08-21T14:05:06.722345Z"
    }
   },
   "cell_type": "code",
   "source": "# feel free to explore more",
   "id": "c3d205c098ac7067",
   "outputs": [],
   "execution_count": 72
  }
 ],
 "metadata": {
  "kernelspec": {
   "display_name": "Python 3",
   "language": "python",
   "name": "python3"
  },
  "language_info": {
   "codemirror_mode": {
    "name": "ipython",
    "version": 2
   },
   "file_extension": ".py",
   "mimetype": "text/x-python",
   "name": "python",
   "nbconvert_exporter": "python",
   "pygments_lexer": "ipython2",
   "version": "2.7.6"
  }
 },
 "nbformat": 4,
 "nbformat_minor": 5
}
